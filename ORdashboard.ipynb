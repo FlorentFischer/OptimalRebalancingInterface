{
 "cells": [
  {
   "cell_type": "code",
   "execution_count": 1,
   "metadata": {},
   "outputs": [],
   "source": [
    "import numpy as np\n",
    "import pandas as pd\n",
    "import warnings\n",
    "warnings.filterwarnings(\"ignore\")\n",
    "import plotly.graph_objs as go\n",
    "import plotly.express as px\n",
    "import dash\n",
    "import dash_html_components as html\n",
    "import dash_core_components as dcc\n",
    "from dash.dependencies import Input, Output"
   ]
  },
  {
   "cell_type": "code",
   "execution_count": 2,
   "metadata": {},
   "outputs": [],
   "source": [
    "import matplotlib.pyplot as plt\n",
    "\n",
    "from matplotlib import cycler\n",
    "colors = cycler('color',\n",
    "                ['#669FEE', '#66EE91', '#9988DD',\n",
    "                 '#EECC55', '#88BB44', '#FFBBBB'])\n",
    "plt.rc('figure', facecolor='#313233')\n",
    "plt.rc('axes', facecolor=\"#313233\", edgecolor='none',\n",
    "       axisbelow=True, grid=True, prop_cycle=colors,\n",
    "       labelcolor='gray')\n",
    "plt.rc('grid', color='474A4A', linestyle='solid')\n",
    "plt.rc('xtick', color='gray')\n",
    "plt.rc('ytick', direction='out', color='gray')\n",
    "plt.rc('legend', facecolor=\"#313233\", edgecolor=\"#313233\")\n",
    "plt.rc(\"text\", color=\"#C9C9C9\")\n",
    "plt.rc('figure', facecolor='#313233')"
   ]
  },
  {
   "cell_type": "code",
   "execution_count": 3,
   "metadata": {},
   "outputs": [],
   "source": [
    "def describe(lpp):\n",
    "  \"\"\"\n",
    "  Documentation\n",
    "  \"\"\"\n",
    "\n",
    "  # Usual description\n",
    "  resume = lpp.describe()\n",
    "\n",
    "  # Non usual description\n",
    "  sharpe = lpp.mean(axis=0) / lpp.std(axis=0)\n",
    "  sharpe = pd.DataFrame(sharpe, index=lpp.columns, columns = [\"sharpe\"]).transpose()\n",
    "\n",
    "  # Concat the descriptions\n",
    "  description = pd.concat((resume, sharpe), axis=0)\n",
    "\n",
    "  return description"
   ]
  },
  {
   "cell_type": "code",
   "execution_count": 4,
   "metadata": {},
   "outputs": [
    {
     "data": {
      "text/html": [
       "<div>\n",
       "<style scoped>\n",
       "    .dataframe tbody tr th:only-of-type {\n",
       "        vertical-align: middle;\n",
       "    }\n",
       "\n",
       "    .dataframe tbody tr th {\n",
       "        vertical-align: top;\n",
       "    }\n",
       "\n",
       "    .dataframe thead th {\n",
       "        text-align: right;\n",
       "    }\n",
       "</style>\n",
       "<table border=\"1\" class=\"dataframe\">\n",
       "  <thead>\n",
       "    <tr style=\"text-align: right;\">\n",
       "      <th></th>\n",
       "      <th>Swiss Bond</th>\n",
       "      <th>Euro Bonds</th>\n",
       "      <th>Mondial Bonds</th>\n",
       "      <th>Swiss Stocks</th>\n",
       "      <th>Mondial Stocks</th>\n",
       "      <th>LPP 25</th>\n",
       "      <th>LPP 40</th>\n",
       "      <th>LPP 60</th>\n",
       "    </tr>\n",
       "  </thead>\n",
       "  <tbody>\n",
       "    <tr>\n",
       "      <th>count</th>\n",
       "      <td>177.000000</td>\n",
       "      <td>177.000000</td>\n",
       "      <td>177.000000</td>\n",
       "      <td>177.000000</td>\n",
       "      <td>177.000000</td>\n",
       "      <td>177.000000</td>\n",
       "      <td>177.000000</td>\n",
       "      <td>177.000000</td>\n",
       "    </tr>\n",
       "    <tr>\n",
       "      <th>mean</th>\n",
       "      <td>0.001927</td>\n",
       "      <td>0.003199</td>\n",
       "      <td>0.002924</td>\n",
       "      <td>0.005079</td>\n",
       "      <td>0.007003</td>\n",
       "      <td>0.003181</td>\n",
       "      <td>0.003846</td>\n",
       "      <td>0.004765</td>\n",
       "    </tr>\n",
       "    <tr>\n",
       "      <th>std</th>\n",
       "      <td>0.009252</td>\n",
       "      <td>0.010134</td>\n",
       "      <td>0.015587</td>\n",
       "      <td>0.037079</td>\n",
       "      <td>0.047255</td>\n",
       "      <td>0.012643</td>\n",
       "      <td>0.017747</td>\n",
       "      <td>0.025682</td>\n",
       "    </tr>\n",
       "    <tr>\n",
       "      <th>min</th>\n",
       "      <td>-0.051236</td>\n",
       "      <td>-0.033915</td>\n",
       "      <td>-0.039732</td>\n",
       "      <td>-0.101880</td>\n",
       "      <td>-0.197906</td>\n",
       "      <td>-0.060273</td>\n",
       "      <td>-0.071867</td>\n",
       "      <td>-0.103109</td>\n",
       "    </tr>\n",
       "    <tr>\n",
       "      <th>25%</th>\n",
       "      <td>-0.002580</td>\n",
       "      <td>-0.004373</td>\n",
       "      <td>-0.007201</td>\n",
       "      <td>-0.014898</td>\n",
       "      <td>-0.015369</td>\n",
       "      <td>-0.002046</td>\n",
       "      <td>-0.003415</td>\n",
       "      <td>-0.007364</td>\n",
       "    </tr>\n",
       "    <tr>\n",
       "      <th>50%</th>\n",
       "      <td>0.002227</td>\n",
       "      <td>0.004311</td>\n",
       "      <td>0.004131</td>\n",
       "      <td>0.009451</td>\n",
       "      <td>0.012900</td>\n",
       "      <td>0.004180</td>\n",
       "      <td>0.005578</td>\n",
       "      <td>0.008014</td>\n",
       "    </tr>\n",
       "    <tr>\n",
       "      <th>75%</th>\n",
       "      <td>0.007359</td>\n",
       "      <td>0.009574</td>\n",
       "      <td>0.012765</td>\n",
       "      <td>0.028617</td>\n",
       "      <td>0.031915</td>\n",
       "      <td>0.010801</td>\n",
       "      <td>0.014253</td>\n",
       "      <td>0.019820</td>\n",
       "    </tr>\n",
       "    <tr>\n",
       "      <th>max</th>\n",
       "      <td>0.041034</td>\n",
       "      <td>0.031557</td>\n",
       "      <td>0.062131</td>\n",
       "      <td>0.095817</td>\n",
       "      <td>0.123633</td>\n",
       "      <td>0.039591</td>\n",
       "      <td>0.049821</td>\n",
       "      <td>0.068228</td>\n",
       "    </tr>\n",
       "    <tr>\n",
       "      <th>sharpe</th>\n",
       "      <td>0.208264</td>\n",
       "      <td>0.315661</td>\n",
       "      <td>0.187610</td>\n",
       "      <td>0.136969</td>\n",
       "      <td>0.148197</td>\n",
       "      <td>0.251560</td>\n",
       "      <td>0.216696</td>\n",
       "      <td>0.185530</td>\n",
       "    </tr>\n",
       "  </tbody>\n",
       "</table>\n",
       "</div>"
      ],
      "text/plain": [
       "        Swiss Bond  Euro Bonds  Mondial Bonds  Swiss Stocks  Mondial Stocks  \\\n",
       "count   177.000000  177.000000     177.000000    177.000000      177.000000   \n",
       "mean      0.001927    0.003199       0.002924      0.005079        0.007003   \n",
       "std       0.009252    0.010134       0.015587      0.037079        0.047255   \n",
       "min      -0.051236   -0.033915      -0.039732     -0.101880       -0.197906   \n",
       "25%      -0.002580   -0.004373      -0.007201     -0.014898       -0.015369   \n",
       "50%       0.002227    0.004311       0.004131      0.009451        0.012900   \n",
       "75%       0.007359    0.009574       0.012765      0.028617        0.031915   \n",
       "max       0.041034    0.031557       0.062131      0.095817        0.123633   \n",
       "sharpe    0.208264    0.315661       0.187610      0.136969        0.148197   \n",
       "\n",
       "            LPP 25      LPP 40      LPP 60  \n",
       "count   177.000000  177.000000  177.000000  \n",
       "mean      0.003181    0.003846    0.004765  \n",
       "std       0.012643    0.017747    0.025682  \n",
       "min      -0.060273   -0.071867   -0.103109  \n",
       "25%      -0.002046   -0.003415   -0.007364  \n",
       "50%       0.004180    0.005578    0.008014  \n",
       "75%       0.010801    0.014253    0.019820  \n",
       "max       0.039591    0.049821    0.068228  \n",
       "sharpe    0.251560    0.216696    0.185530  "
      ]
     },
     "execution_count": 4,
     "metadata": {},
     "output_type": "execute_result"
    }
   ],
   "source": [
    "lpp2000 = pd.read_excel(\"LPP2000.xls\", index_col=\"Date\", parse_dates=True)\n",
    "lpp2000.columns = [\"Swiss Bond\", \"Swiss Stocks\", \"Mondial Stocks\", \"Euro Bonds\", \"Mondial Bonds\"]\n",
    "columns = [\"Swiss Bond\", \"Euro Bonds\", \"Mondial Bonds\", \"Swiss Stocks\", \"Mondial Stocks\"]\n",
    "lpp2000 = pd.concat((lpp2000[\"Swiss Bond\"], lpp2000[\"Euro Bonds\"], lpp2000[\"Mondial Bonds\"], lpp2000[\"Swiss Stocks\"], lpp2000[\"Mondial Stocks\"]), axis=1).pct_change(1)\n",
    "\n",
    "weight_LPP2000_25 = [0.6, 0.1, 0.05, 0.1, 0.15]\n",
    "weight_LPP2000_40 = [0.45, 0.1, 0.05, 0.15, 0.25]\n",
    "weight_LPP2000_60 = [0.25, 0.1, 0.05, 0.2, 0.4]\n",
    "\n",
    "lpp25_2000 = np.multiply(lpp2000, weight_LPP2000_25).sum(axis=1)\n",
    "lpp40_2000 = np.multiply(lpp2000, weight_LPP2000_40).sum(axis=1)\n",
    "lpp60_2000 = np.multiply(lpp2000, weight_LPP2000_60).sum(axis=1)\n",
    "\n",
    "lpp2000[\"LPP 25\"] = lpp25_2000\n",
    "lpp2000[\"LPP 40\"] = lpp40_2000\n",
    "lpp2000[\"LPP 60\"] = lpp60_2000\n",
    "\n",
    "lpp2000 = lpp2000.dropna()\n",
    "describe(lpp2000)"
   ]
  },
  {
   "cell_type": "code",
   "execution_count": 5,
   "metadata": {},
   "outputs": [],
   "source": [
    "class Rebalancing:\n",
    "  \"\"\"\n",
    "  Database: Dataframe\n",
    "  Benchmark: String (column name)\n",
    "  Columns: List of string containning the name of the asset\n",
    "  Weight_ben: list of weight\n",
    "\n",
    "    List of methods:\n",
    "  - No Rebalancing\n",
    "  - Fixed Interval Rebalancing\n",
    "  - Absolute Deviation\n",
    "  - Relative Deviation\n",
    "  - Tracking Error Deviation\n",
    "  - Momentum startegy (TAA)\n",
    "\n",
    "  \"\"\"\n",
    "\n",
    "  def __init__(self, database, benchmark, columns, weight_ben, cost=0.01):\n",
    "    # INPUTS\n",
    "    self.database = database.dropna()\n",
    "    self.benchmark = benchmark\n",
    "    self.weight_ben = weight_ben\n",
    "    self.columns = columns\n",
    "    self.cost = cost\n",
    "\n",
    "    if np.array(self.weight_ben).sum()!=1:\n",
    "      print(\"WARNINGS: SUM OF THE CAPITAL DIFFERENT OF 1\")\n",
    "\n",
    "    # VARIABLES\n",
    "    self.weight = None\n",
    "    self.returns = None\n",
    "    self.portfolio = None\n",
    "    self.cost_date = list()\n",
    "\n",
    "\n",
    "\n",
    "  def no_rebalancing(self):\n",
    "    # COMPUTE THE WEIGHT\n",
    "    absolute_weight =  np.multiply((1 + self.database[self.columns].cumsum()),self.weight_ben)\n",
    "    self.weight = np.divide(absolute_weight, absolute_weight.sum(axis=1).values.reshape(-1,1))\n",
    "\n",
    "    # COMPUTE THE RETURNS\n",
    "    self.cost_date.append(self.database.index[0])\n",
    "    self.returns = np.multiply(self.database[self.columns], self.weight)\n",
    "    self.returns.loc[self.cost_date] = self.returns.loc[self.cost_date] - self.cost\n",
    "\n",
    "    # COMPUTE THE PORTFOLIO\n",
    "    self.portfolio = self.returns.sum(axis=1)\n",
    "\n",
    "\n",
    "\n",
    "  def fixed_interval_rebalancing(self, n):\n",
    "    \"\"\"\n",
    "    n = number of month between each rebalancing\n",
    "    \"\"\"\n",
    "    self.cost_date = list()\n",
    "    current_weight = self.weight_ben\n",
    "    weights = list()\n",
    "\n",
    "    for i in range(0,len(self.database)):\n",
    "      if i%n!=0:\n",
    "        current_weight = np.multiply(1 + self.database[self.columns].iloc[i:i+1,:],\n",
    "                                    current_weight)\n",
    "\n",
    "        weights.append(current_weight)\n",
    "\n",
    "      else:\n",
    "        current_weight = pd.DataFrame(self.weight_ben, columns=[self.database.index[i]],\n",
    "                                 index = self.columns).transpose()\n",
    "        weights.append(current_weight)\n",
    "        self.cost_date.append(self.database.index[i])\n",
    "\n",
    "    self.weight = pd.concat(tuple(weights),axis=0)\n",
    "    self.weight = np.divide(self.weight,self.weight.sum(axis=1).values.reshape(-1,1))\n",
    "\n",
    "    # COMPUTE THE RETURNS\n",
    "    self.returns = np.multiply(self.database[self.columns], self.weight)\n",
    "    self.returns.loc[self.cost_date] = self.returns.loc[self.cost_date] - self.cost\n",
    "\n",
    "    # COMPUTE THE PORTFOLIO\n",
    "    self.portfolio = self.returns.sum(axis=1)\n",
    "\n",
    "\n",
    "  def absolute_deviation(self,pct):\n",
    "    \"\"\"\n",
    "    pct = pourcentage de deviation des poids du portfeuille\n",
    "    \"\"\"\n",
    "\n",
    "    self.cost_date = list()\n",
    "    current_weight = self.weight_ben\n",
    "    weights = list()\n",
    "    ben_weight_array = np.array(self.weight_ben)\n",
    "\n",
    "\n",
    "    for i in range(0,len(self.database)):\n",
    "      current_weight_array = np.array(current_weight)\n",
    "      deviation = np.abs(current_weight_array-ben_weight_array).sum()\n",
    "\n",
    "      if deviation<pct:\n",
    "        current_weight = np.multiply(1 + self.database[self.columns].iloc[i:i+1,:],\n",
    "                                    current_weight)\n",
    "\n",
    "        weights.append(current_weight)\n",
    "\n",
    "      else:\n",
    "        current_weight = pd.DataFrame(self.weight_ben, columns=[self.database.index[i]],\n",
    "                                index = self.columns).transpose()\n",
    "        weights.append(current_weight)\n",
    "        self.cost_date.append(self.database.index[i])\n",
    "\n",
    "    self.weight = pd.concat(tuple(weights),axis=0)\n",
    "    self.weight = np.divide(self.weight,self.weight.sum(axis=1).values.reshape(-1,1))\n",
    "\n",
    "    # COMPUTE THE RETURNS\n",
    "    self.returns = np.multiply(self.database[self.columns], self.weight)\n",
    "    self.returns.loc[self.cost_date] = self.returns.loc[self.cost_date] - self.cost\n",
    "\n",
    "    # COMPUTE THE PORTFOLIO\n",
    "    self.portfolio = self.returns.sum(axis=1)\n",
    "\n",
    "\n",
    "\n",
    "\n",
    "\n",
    "  def relative_deviation(self,pct):\n",
    "    \"\"\"\n",
    "    pct = pourcentage de deviation des poids du portfeuille\n",
    "    \"\"\"\n",
    "\n",
    "    self.cost_date = list()\n",
    "    current_weight = self.weight_ben\n",
    "    weights = list()\n",
    "    ben_weight_array = np.array(self.weight_ben)\n",
    "\n",
    "\n",
    "    for i in range(0,len(self.database)):\n",
    "      current_weight_array = np.array(current_weight)\n",
    "      deviation = np.abs((current_weight_array-ben_weight_array).sum())\n",
    "\n",
    "      if deviation<pct:\n",
    "        current_weight = np.multiply(1 + self.database[self.columns].iloc[i:i+1,:],\n",
    "                                    current_weight)\n",
    "\n",
    "        weights.append(current_weight)\n",
    "\n",
    "      else:\n",
    "        current_weight = pd.DataFrame(self.weight_ben, columns=[self.database.index[i]],\n",
    "                                index = self.columns).transpose()\n",
    "        weights.append(current_weight)\n",
    "        self.cost_date.append(self.database.index[i])\n",
    "\n",
    "    self.weight = pd.concat(tuple(weights),axis=0)\n",
    "    self.weight = np.divide(self.weight,self.weight.sum(axis=1).values.reshape(-1,1))\n",
    "\n",
    "    # COMPUTE THE RETURNS\n",
    "    self.returns = np.multiply(self.database[self.columns], self.weight)\n",
    "    self.returns.loc[self.cost_date] = self.returns.loc[self.cost_date] - self.cost\n",
    "\n",
    "    # COMPUTE THE PORTFOLIO\n",
    "    self.portfolio = self.returns.sum(axis=1)\n",
    "\n",
    "\n",
    "\n",
    "  def tracking_error_deviation(self,pct):\n",
    "    \"\"\"\n",
    "    pct = pourcentage de deviation des poids du portfeuille\n",
    "    \"\"\"\n",
    "\n",
    "    self.cost_date = list()\n",
    "    current_weight = self.weight_ben\n",
    "    weights = list()\n",
    "    ben_weight_array = np.array(self.weight_ben)\n",
    "\n",
    "    start = 0\n",
    "\n",
    "    for i in range(0,len(self.database)):\n",
    "      current_weight_array = np.array(current_weight)\n",
    "\n",
    "      returns_pf = np.multiply(self.database[self.columns].iloc[start:i,:],\n",
    "                               current_weight_array).sum(axis=1)\n",
    "\n",
    "      returns_ben = np.multiply(self.database[self.columns].iloc[start:i,:],\n",
    "                               self.weight_ben).sum(axis=1)\n",
    "      if i-start>1:\n",
    "        tracking_error = np.std(returns_ben-returns_pf)\n",
    "\n",
    "      else:\n",
    "        tracking_error = 0\n",
    "\n",
    "      if tracking_error<pct:\n",
    "        current_weight = np.multiply(1 + self.database[self.columns].iloc[i:i+1,:],\n",
    "                                    current_weight)\n",
    "\n",
    "        weights.append(current_weight)\n",
    "\n",
    "      else:\n",
    "        current_weight = pd.DataFrame(self.weight_ben, columns=[self.database.index[i]],\n",
    "                                index = self.columns).transpose()\n",
    "        weights.append(current_weight)\n",
    "        self.cost_date.append(self.database.index[i])\n",
    "\n",
    "    self.weight = pd.concat(tuple(weights),axis=0)\n",
    "    self.weight = np.divide(self.weight,self.weight.sum(axis=1).values.reshape(-1,1))\n",
    "\n",
    "    # COMPUTE THE RETURNS\n",
    "    self.returns = np.multiply(self.database[self.columns], self.weight)\n",
    "    self.returns.loc[self.cost_date] = self.returns.loc[self.cost_date] - self.cost\n",
    "\n",
    "    # COMPUTE THE PORTFOLIO\n",
    "    self.portfolio = self.returns.sum(axis=1)\n",
    "\n",
    "\n",
    "\n",
    "\n",
    "  def standard_deviation_deviation(self,pct):\n",
    "    \"\"\"\n",
    "    pct = pourcentage de deviation des poids du portfeuille\n",
    "    \"\"\"\n",
    "\n",
    "    self.cost_date = list()\n",
    "    current_weight = self.weight_ben\n",
    "    weights = list()\n",
    "    ben_weight_array = np.array(self.weight_ben)\n",
    "\n",
    "    start = 0\n",
    "\n",
    "    for i in range(0,len(self.database)):\n",
    "      current_weight_array = np.array(current_weight)\n",
    "\n",
    "      returns_pf = np.multiply(self.database[self.columns].iloc[i-11:i,:],\n",
    "                               current_weight_array).sum(axis=1)\n",
    "\n",
    "      std = np.std(returns_pf)\n",
    "      if std<pct:\n",
    "        current_weight = np.multiply(1 + self.database[self.columns].iloc[i:i+1,:],\n",
    "                                    current_weight)\n",
    "\n",
    "        weights.append(current_weight)\n",
    "\n",
    "      else:\n",
    "        current_weight = pd.DataFrame(self.weight_ben, columns=[self.database.index[i]],\n",
    "                                index = self.columns).transpose()\n",
    "        weights.append(current_weight)\n",
    "        self.cost_date.append(self.database.index[i])\n",
    "\n",
    "    self.weight = pd.concat(tuple(weights),axis=0)\n",
    "    self.weight = np.divide(self.weight,self.weight.sum(axis=1).values.reshape(-1,1))\n",
    "\n",
    "    # COMPUTE THE RETURNS\n",
    "    self.returns = np.multiply(self.database[self.columns], self.weight)\n",
    "    self.returns.loc[self.cost_date] = self.returns.loc[self.cost_date] - self.cost\n",
    "\n",
    "    # COMPUTE THE PORTFOLIO\n",
    "    self.portfolio = self.returns.sum(axis=1)\n",
    "\n",
    "\n",
    "\n",
    "  def momentum(self,pct):\n",
    "    \"\"\"\n",
    "    pct = pourcentage de deviation des poids du portfeuille\n",
    "    \"\"\"\n",
    "\n",
    "    self.cost_date = list()\n",
    "    current_weight = self.weight_ben\n",
    "    weights = list()\n",
    "    ben_weight_array = np.array(self.weight_ben)\n",
    "\n",
    "    start = 0\n",
    "\n",
    "    for i in range(0,len(self.database)):\n",
    "      current_weight_array = np.array(current_weight)\n",
    "      try:\n",
    "        returns_pf = np.abs(np.multiply(self.database[self.columns].iloc[i-11:i,:],\n",
    "                                np.array(weights[-1].values[-12:,:])).sum(axis=1))\n",
    "\n",
    "        rol = returns_pf.mean()\n",
    "      except:\n",
    "        rol=0\n",
    "      if rol<pct:\n",
    "        current_weight = np.multiply(1 + self.database[self.columns].iloc[i:i+1,:],\n",
    "                                    current_weight)\n",
    "\n",
    "        weights.append(current_weight)\n",
    "\n",
    "      else:\n",
    "        current_weight = pd.DataFrame(self.weight_ben, columns=[self.database.index[i]],\n",
    "                                index = self.columns).transpose()\n",
    "        weights.append(current_weight)\n",
    "        self.cost_date.append(self.database.index[i])\n",
    "\n",
    "    self.weight = pd.concat(tuple(weights),axis=0)\n",
    "    self.weight = np.divide(self.weight,self.weight.sum(axis=1).values.reshape(-1,1))\n",
    "\n",
    "    # COMPUTE THE RETURNS\n",
    "    self.returns = np.multiply(self.database[self.columns], self.weight)\n",
    "    self.returns.loc[self.cost_date] = self.returns.loc[self.cost_date] - self.cost\n",
    "\n",
    "    # COMPUTE THE PORTFOLIO\n",
    "    self.portfolio = self.returns.sum(axis=1)\n",
    "\n",
    "\n",
    "\n",
    "  def bands_rebalancing(self,pct):\n",
    "    \"\"\"\n",
    "    pct = pourcentage de deviation des poids du portfeuille\n",
    "    \"\"\"\n",
    "\n",
    "    self.cost_date = list()\n",
    "    current_weight = self.weight_ben\n",
    "    weights = list()\n",
    "    ben_weight_array = np.array(self.weight_ben)\n",
    "\n",
    "\n",
    "    for i in range(0,len(self.database)):\n",
    "      current_weight_array = np.array(current_weight)\n",
    "      deviation = np.abs(current_weight_array-ben_weight_array).sum()\n",
    "\n",
    "      if deviation<pct:\n",
    "        current_weight = np.multiply(1 + self.database[self.columns].iloc[i:i+1,:],\n",
    "                                    current_weight)\n",
    "\n",
    "        weights.append(current_weight)\n",
    "\n",
    "      else:\n",
    "        current_weight = pd.DataFrame(self.weight_ben, columns=[self.database.index[i]],\n",
    "                                index = self.columns).transpose()\n",
    "        weights.append(current_weight)\n",
    "        self.cost_date.append(self.database.index[i])\n",
    "\n",
    "    self.weight = pd.concat(tuple(weights),axis=0)\n",
    "    self.weight = np.divide(self.weight,self.weight.sum(axis=1).values.reshape(-1,1))\n",
    "\n",
    "    # COMPUTE THE RETURNS\n",
    "    self.returns = np.multiply(self.database[self.columns], self.weight)\n",
    "    self.returns.loc[self.cost_date] = self.returns.loc[self.cost_date] - self.cost\n",
    "\n",
    "    # COMPUTE THE PORTFOLIO\n",
    "    self.portfolio = self.returns.sum(axis=1)\n",
    "\n",
    "\n",
    "  def visualisation(self, graphs=True):\n",
    "\n",
    "\n",
    "    # COMPUTE ANNUAL RETURN\n",
    "    self.annual_pf = self.portfolio.mean()*12*100\n",
    "    self.annual_idx = self.database[self.benchmark].mean()*12*100\n",
    "\n",
    "    # COMPUTE SOME METRICS\n",
    "    self.te = (np.std(self.portfolio - self.database[self.benchmark]) * 100)\n",
    "    self.total_cost = (self.cost * len(self.cost_date) * len(self.columns))*100"
   ]
  },
  {
   "cell_type": "code",
   "execution_count": 19,
   "metadata": {},
   "outputs": [
    {
     "data": {
      "application/vnd.plotly.v1+json": {
       "config": {
        "plotlyServerURL": "https://plot.ly"
       },
       "data": [
        {
         "marker": {
          "color": "#4086AA",
          "line": {
           "color": "#4086AA"
          }
         },
         "name": "Portfolio",
         "opacity": 0.9,
         "type": "bar",
         "x": [
          "January:2007",
          "February:2007",
          "March:2007",
          "April:2007",
          "May:2007",
          "June:2007",
          "July:2007",
          "August:2007",
          "September:2007",
          "October:2007",
          "November:2007",
          "December:2007",
          "January:2008",
          "February:2008",
          "March:2008",
          "April:2008",
          "May:2008",
          "June:2008",
          "July:2008",
          "August:2008",
          "September:2008",
          "October:2008",
          "November:2008",
          "December:2008",
          "January:2009",
          "February:2009",
          "March:2009",
          "April:2009",
          "May:2009",
          "June:2009",
          "July:2009",
          "August:2009",
          "September:2009",
          "October:2009",
          "November:2009",
          "December:2009",
          "January:2010",
          "February:2010",
          "March:2010",
          "April:2010",
          "May:2010",
          "June:2010",
          "July:2010",
          "August:2010",
          "September:2010",
          "October:2010",
          "November:2010",
          "December:2010",
          "January:2011",
          "February:2011",
          "March:2011",
          "April:2011",
          "May:2011",
          "June:2011",
          "July:2011",
          "August:2011",
          "September:2011",
          "October:2011",
          "November:2011",
          "December:2011",
          "January:2012",
          "February:2012",
          "March:2012",
          "April:2012",
          "May:2012",
          "June:2012",
          "July:2012",
          "August:2012",
          "September:2012",
          "October:2012",
          "November:2012",
          "December:2012",
          "January:2013",
          "February:2013",
          "March:2013",
          "April:2013",
          "May:2013",
          "June:2013",
          "July:2013",
          "August:2013",
          "September:2013",
          "October:2013",
          "November:2013",
          "December:2013",
          "January:2014",
          "February:2014",
          "March:2014",
          "April:2014",
          "May:2014",
          "June:2014",
          "July:2014",
          "August:2014",
          "September:2014",
          "October:2014",
          "November:2014",
          "December:2014",
          "January:2015",
          "February:2015",
          "March:2015",
          "April:2015",
          "May:2015",
          "June:2015",
          "July:2015",
          "August:2015",
          "September:2015",
          "October:2015",
          "November:2015",
          "December:2015",
          "January:2016",
          "February:2016",
          "March:2016",
          "April:2016",
          "May:2016",
          "June:2016",
          "July:2016",
          "August:2016",
          "September:2016",
          "October:2016",
          "November:2016",
          "December:2016",
          "January:2017",
          "February:2017",
          "March:2017",
          "April:2017",
          "May:2017",
          "June:2017",
          "July:2017",
          "August:2017",
          "September:2017",
          "October:2017",
          "November:2017",
          "December:2017",
          "January:2018",
          "February:2018",
          "March:2018",
          "April:2018",
          "May:2018",
          "June:2018",
          "July:2018",
          "August:2018",
          "September:2018",
          "October:2018",
          "November:2018",
          "December:2018",
          "January:2019",
          "February:2019",
          "March:2019",
          "April:2019",
          "May:2019",
          "June:2019",
          "July:2019",
          "August:2019",
          "September:2019",
          "October:2019",
          "November:2019",
          "December:2019",
          "January:2020",
          "February:2020",
          "March:2020",
          "April:2020",
          "May:2020",
          "June:2020",
          "July:2020",
          "August:2020",
          "September:2020",
          "October:2020",
          "November:2020",
          "December:2020",
          "January:2021",
          "February:2021",
          "March:2021",
          "April:2021",
          "May:2021",
          "June:2021",
          "July:2021",
          "August:2021",
          "September:2021",
          "October:2021",
          "November:2021",
          "December:2021"
         ],
         "y": [
          0.6664424261027124,
          -0.8480561028042288,
          0.13325591072106402,
          1.3969462023106183,
          -0.5561985494711591,
          -1.5839875876723721,
          -1.0576871294094392,
          -0.2466956984908003,
          0.9627329877379927,
          0.97051529923283,
          -1.7050790359871182,
          -1.1152243400921422,
          -2.424580392992631,
          0.0669801314278108,
          -1.0430161905033892,
          1.8802018238523572,
          0.2686346513272704,
          -3.300395750508082,
          0.6429370730243592,
          0.2376424012343936,
          -4.035897233484406,
          -5.5864237609480245,
          1.1001429155101794,
          0.8861070917640548,
          -1.7099052679985935,
          -3.043402224868374,
          2.0726600070241687,
          3.5729739494763115,
          2.4396225677966417,
          0.7163117213031968,
          4.29168355459197,
          1.9084752683445887,
          1.6584838569601128,
          -0.2790789655263736,
          1.2894817756320662,
          0.6553907520469175,
          -0.3625828765954589,
          1.1901554973342925,
          1.9397701543595367,
          -0.19944399535282387,
          -1.6762199501197912,
          -0.7199821597372514,
          2.1711441082447793,
          0.46950044326744084,
          1.8804893103037166,
          1.1142559753977366,
          -1.2639814686161341,
          1.5688970910852824,
          0.2771031389065199,
          1.0027571554652002,
          -0.48943699563678356,
          1.5978650135000223,
          0.3753679541706952,
          -0.7757161453545561,
          -0.12934935667504358,
          -1.3685343689868903,
          -1.5519648403632993,
          2.5834071299616146,
          -1.3812589790181002,
          1.3529086744467334,
          2.047594655792601,
          1.8727652086706528,
          0.374476310913457,
          -0.055615476735708554,
          -1.6250512714243832,
          1.2279345669479445,
          1.6633542050577088,
          0.7686788551151279,
          1.0800290411513018,
          0.2440912923529619,
          0.8775330328866275,
          0.5428531549716356,
          1.4014350555919586,
          0.7919644273399118,
          0.8960314316445274,
          1.6440724463058844,
          -0.49787210533523046,
          -2.0542542901422314,
          1.719768258340236,
          -0.6932117734019536,
          2.0798869232673365,
          1.7324308587236985,
          0.530485387530354,
          -0.14593757845510558,
          0.08854879040771126,
          1.893377862952711,
          0.40734099039320004,
          0.9159156707613013,
          1.3426753515402694,
          0.578041475551599,
          -0.27954357591745166,
          1.5873821804054427,
          -0.8179892515085292,
          0.36720703515024133,
          1.4151491484576044,
          -0.2166448419440351,
          -0.10750331222601954,
          2.315973310680883,
          0.22541077492540806,
          0.6660501024075585,
          0.16125312811009151,
          -1.9707879259821954,
          1.7990390715042124,
          -2.4155974039123094,
          -1.2033574454950184,
          3.1424764844946234,
          0.25788065611282024,
          -1.458151525493413,
          -1.0258205632172481,
          0.09647186755137971,
          1.7163825114564242,
          0.6388890464084203,
          0.7627111191558983,
          0.5795144403983493,
          1.3871445578641035,
          0.07156990478580776,
          0.25251016479573857,
          -1.6392309990569551,
          -0.6647919358398766,
          1.0927922119711588,
          0.6365181588273887,
          1.840233190304251,
          0.36475572531507194,
          1.0668822870669321,
          1.2344664307330222,
          -0.45390234890138,
          1.0119148023227154,
          0.5079619636167134,
          0.5233470049883977,
          1.0589421048189824,
          0.6813905509024215,
          0.5901791138950041,
          1.1966014965003027,
          -1.915464231034706,
          -0.2966573960432795,
          0.46800973732072265,
          -0.23676544586856246,
          0.07554711401222944,
          1.4325206164528677,
          0.27679460017153085,
          -0.15894266755414085,
          -2.258909602110766,
          0.45972306617073244,
          -2.280621553012717,
          3.6369769401026764,
          1.3998039338512076,
          1.4965155558075751,
          1.5625677749130644,
          -1.167034026642821,
          2.9086481454220907,
          0.8982381901803634,
          0.5051045656031778,
          0.02207138686368456,
          0.28380963502764683,
          1.3505827572512372,
          0.8140091742486144,
          0.7581651946249662,
          -3.0343194884931943,
          -6.874699411585884,
          4.73749955153489,
          0.9821100389808453,
          1.2808301237429116,
          2.010854266174139,
          1.594429354406883,
          -0.34488756933236175,
          -1.3099970944792225,
          4.894529575778213,
          1.960271252349392,
          -1.1417657011657305,
          -0.31609631152540035,
          1.894389362068516,
          1.287083164066878,
          0.9188886579366494,
          1.2824619436011713,
          1.1190960490703314,
          0.9283431447528924,
          -2.7616655712843285
         ]
        },
        {
         "marker": {
          "color": "#e24e4e",
          "line": {
           "color": "#e24e4e"
          }
         },
         "name": "Bench",
         "opacity": 0.9,
         "type": "bar",
         "x": [
          "January:2007",
          "February:2007",
          "March:2007",
          "April:2007",
          "May:2007",
          "June:2007",
          "July:2007",
          "August:2007",
          "September:2007",
          "October:2007",
          "November:2007",
          "December:2007",
          "January:2008",
          "February:2008",
          "March:2008",
          "April:2008",
          "May:2008",
          "June:2008",
          "July:2008",
          "August:2008",
          "September:2008",
          "October:2008",
          "November:2008",
          "December:2008",
          "January:2009",
          "February:2009",
          "March:2009",
          "April:2009",
          "May:2009",
          "June:2009",
          "July:2009",
          "August:2009",
          "September:2009",
          "October:2009",
          "November:2009",
          "December:2009",
          "January:2010",
          "February:2010",
          "March:2010",
          "April:2010",
          "May:2010",
          "June:2010",
          "July:2010",
          "August:2010",
          "September:2010",
          "October:2010",
          "November:2010",
          "December:2010",
          "January:2011",
          "February:2011",
          "March:2011",
          "April:2011",
          "May:2011",
          "June:2011",
          "July:2011",
          "August:2011",
          "September:2011",
          "October:2011",
          "November:2011",
          "December:2011",
          "January:2012",
          "February:2012",
          "March:2012",
          "April:2012",
          "May:2012",
          "June:2012",
          "July:2012",
          "August:2012",
          "September:2012",
          "October:2012",
          "November:2012",
          "December:2012",
          "January:2013",
          "February:2013",
          "March:2013",
          "April:2013",
          "May:2013",
          "June:2013",
          "July:2013",
          "August:2013",
          "September:2013",
          "October:2013",
          "November:2013",
          "December:2013",
          "January:2014",
          "February:2014",
          "March:2014",
          "April:2014",
          "May:2014",
          "June:2014",
          "July:2014",
          "August:2014",
          "September:2014",
          "October:2014",
          "November:2014",
          "December:2014",
          "January:2015",
          "February:2015",
          "March:2015",
          "April:2015",
          "May:2015",
          "June:2015",
          "July:2015",
          "August:2015",
          "September:2015",
          "October:2015",
          "November:2015",
          "December:2015",
          "January:2016",
          "February:2016",
          "March:2016",
          "April:2016",
          "May:2016",
          "June:2016",
          "July:2016",
          "August:2016",
          "September:2016",
          "October:2016",
          "November:2016",
          "December:2016",
          "January:2017",
          "February:2017",
          "March:2017",
          "April:2017",
          "May:2017",
          "June:2017",
          "July:2017",
          "August:2017",
          "September:2017",
          "October:2017",
          "November:2017",
          "December:2017",
          "January:2018",
          "February:2018",
          "March:2018",
          "April:2018",
          "May:2018",
          "June:2018",
          "July:2018",
          "August:2018",
          "September:2018",
          "October:2018",
          "November:2018",
          "December:2018",
          "January:2019",
          "February:2019",
          "March:2019",
          "April:2019",
          "May:2019",
          "June:2019",
          "July:2019",
          "August:2019",
          "September:2019",
          "October:2019",
          "November:2019",
          "December:2019",
          "January:2020",
          "February:2020",
          "March:2020",
          "April:2020",
          "May:2020",
          "June:2020",
          "July:2020",
          "August:2020",
          "September:2020",
          "October:2020",
          "November:2020",
          "December:2020",
          "January:2021",
          "February:2021",
          "March:2021",
          "April:2021",
          "May:2021",
          "June:2021",
          "July:2021",
          "August:2021",
          "September:2021",
          "October:2021",
          "November:2021",
          "December:2021"
         ],
         "y": [
          0.6359751206145603,
          -0.19805610280422878,
          0.7832559107210639,
          2.0469462023106186,
          0.09380145052884084,
          -0.9339875876723719,
          -0.40768712940943913,
          0.4033043015091997,
          1.6127329877379926,
          1.6205152992328296,
          -1.0550790359871183,
          -1.1235002611002798,
          -2.7214970148570097,
          0.052611467911647405,
          -1.1276889941600718,
          1.999618035476564,
          0.28770436376147285,
          -3.541660186618413,
          0.5625984182900751,
          0.17464760001026317,
          -4.7386417876031945,
          -7.186741535853444,
          -0.11430984387218145,
          0.8865924859022212,
          -2.7114203357684312,
          -4.455415130095255,
          3.0702672097672012,
          4.804235051037718,
          3.2231128796101127,
          0.60791315308651,
          4.9821416719491545,
          2.189156800844335,
          1.9209568586817483,
          -0.4229892960127507,
          1.4357194925568284,
          0.9299179031353194,
          -0.720511569498226,
          1.2970179214814228,
          2.353402263997456,
          -0.2711807720607367,
          -2.528513651425044,
          -1.043502061723169,
          2.6388257397159185,
          0.058216222012829645,
          2.4884625846905686,
          1.3696298837253318,
          -1.3520752478138758,
          1.941733585445147,
          0.35506624617913596,
          1.1539418431829462,
          -0.5672278102755274,
          1.780690543329012,
          0.25465737777085834,
          -1.0461126309606943,
          -0.571202843074514,
          -2.023262597270346,
          -2.211708122260133,
          3.264343281153242,
          -1.5126677242906412,
          1.3927184224962736,
          2.2725105146282076,
          2.146325420368804,
          0.49853028432621793,
          -0.1368828341527195,
          -2.3698657542794646,
          1.6138481426577262,
          1.8122114917470808,
          0.8196368198087094,
          1.24903324618864,
          0.23542112786742955,
          1.004191677443716,
          0.632523869640404,
          1.8014546749263793,
          0.8433066656675459,
          1.0059964318522758,
          1.7150600868653296,
          -0.44712302846207747,
          -2.12692253250057,
          1.840596492297971,
          -0.7435108298508275,
          2.2063883341644033,
          1.8027982510027296,
          0.54849483210277,
          -0.1259223253661618,
          -0.028862007471953076,
          1.9766990993083,
          0.4068722317047041,
          0.9255796086536218,
          1.3671356964249493,
          0.5577930203385474,
          -0.31509787013484947,
          1.6048941780062331,
          -0.8381731338532089,
          0.3676339984288768,
          1.433056518781803,
          -0.2690474839148032,
          -0.30666509464464237,
          2.421637684251092,
          0.20365169547893192,
          0.7078724583594204,
          0.17575851436445852,
          -1.9940396828079854,
          1.7866049325814082,
          -2.576719802937243,
          -1.335317276713871,
          3.2693851320028817,
          0.22833098434256296,
          -1.464862796591981,
          -1.3287262163303724,
          -0.04317917513139251,
          1.8724006875062538,
          0.7237577538795753,
          0.7862931787687867,
          0.47286704393118845,
          1.456822427774448,
          0.0931645540775272,
          0.25109992543262294,
          -1.6776235964362691,
          -0.6272534573770105,
          1.1372150029051824,
          0.6724316098862526,
          1.8528802244949774,
          0.37156885339238493,
          1.0601120780196405,
          1.2157377116012758,
          -0.4685735878045616,
          0.9599071809977078,
          0.5174292439857642,
          0.45874743254225303,
          1.0091750036550533,
          0.6283447333652681,
          0.5524015191014664,
          0.922153044203438,
          -1.791663776250647,
          -0.2268094770148804,
          0.41117664848591634,
          -0.23077766477717915,
          0.0838381292761431,
          1.2742909818140846,
          0.277541555717486,
          -0.21673468177927593,
          -2.071673941075695,
          0.4308269702803169,
          -2.2010375616310265,
          3.4515750824093265,
          1.3020314081310191,
          1.483198432259788,
          1.387220776960535,
          -0.989536351072902,
          2.680393347471514,
          0.9241012029098966,
          0.6179291993189869,
          -0.12783318789030568,
          0.11857061782973342,
          1.252398566161469,
          0.579021611548176,
          0.898965563898852,
          -2.742571082481779,
          -6.845717016714352,
          4.511563220500235,
          1.6321100389808452,
          1.2657010755021558,
          1.9477559518646936,
          1.425297728218972,
          -0.27516691837379587,
          -1.316184644843561,
          4.492851932536583,
          1.7813370493202318,
          -0.4917657011657306,
          -0.3415112560171747,
          1.8236844872407132,
          1.2008870032047476,
          0.847383156288669,
          1.1904073251880765,
          1.1227458056903494,
          0.8134130445356075,
          -2.647104386508877
         ]
        }
       ],
       "layout": {
        "barmode": "group",
        "legend": {
         "font": {
          "size": 12
         },
         "traceorder": "normal",
         "x": 0.03,
         "y": 0.97
        },
        "paper_bgcolor": "#131313",
        "plot_bgcolor": "#131313",
        "template": {
         "data": {
          "bar": [
           {
            "error_x": {
             "color": "#f2f5fa"
            },
            "error_y": {
             "color": "#f2f5fa"
            },
            "marker": {
             "line": {
              "color": "rgb(17,17,17)",
              "width": 0.5
             }
            },
            "type": "bar"
           }
          ],
          "barpolar": [
           {
            "marker": {
             "line": {
              "color": "rgb(17,17,17)",
              "width": 0.5
             }
            },
            "type": "barpolar"
           }
          ],
          "carpet": [
           {
            "aaxis": {
             "endlinecolor": "#A2B1C6",
             "gridcolor": "#506784",
             "linecolor": "#506784",
             "minorgridcolor": "#506784",
             "startlinecolor": "#A2B1C6"
            },
            "baxis": {
             "endlinecolor": "#A2B1C6",
             "gridcolor": "#506784",
             "linecolor": "#506784",
             "minorgridcolor": "#506784",
             "startlinecolor": "#A2B1C6"
            },
            "type": "carpet"
           }
          ],
          "choropleth": [
           {
            "colorbar": {
             "outlinewidth": 0,
             "ticks": ""
            },
            "type": "choropleth"
           }
          ],
          "contour": [
           {
            "colorbar": {
             "outlinewidth": 0,
             "ticks": ""
            },
            "colorscale": [
             [
              0,
              "#0d0887"
             ],
             [
              0.1111111111111111,
              "#46039f"
             ],
             [
              0.2222222222222222,
              "#7201a8"
             ],
             [
              0.3333333333333333,
              "#9c179e"
             ],
             [
              0.4444444444444444,
              "#bd3786"
             ],
             [
              0.5555555555555556,
              "#d8576b"
             ],
             [
              0.6666666666666666,
              "#ed7953"
             ],
             [
              0.7777777777777778,
              "#fb9f3a"
             ],
             [
              0.8888888888888888,
              "#fdca26"
             ],
             [
              1,
              "#f0f921"
             ]
            ],
            "type": "contour"
           }
          ],
          "contourcarpet": [
           {
            "colorbar": {
             "outlinewidth": 0,
             "ticks": ""
            },
            "type": "contourcarpet"
           }
          ],
          "heatmap": [
           {
            "colorbar": {
             "outlinewidth": 0,
             "ticks": ""
            },
            "colorscale": [
             [
              0,
              "#0d0887"
             ],
             [
              0.1111111111111111,
              "#46039f"
             ],
             [
              0.2222222222222222,
              "#7201a8"
             ],
             [
              0.3333333333333333,
              "#9c179e"
             ],
             [
              0.4444444444444444,
              "#bd3786"
             ],
             [
              0.5555555555555556,
              "#d8576b"
             ],
             [
              0.6666666666666666,
              "#ed7953"
             ],
             [
              0.7777777777777778,
              "#fb9f3a"
             ],
             [
              0.8888888888888888,
              "#fdca26"
             ],
             [
              1,
              "#f0f921"
             ]
            ],
            "type": "heatmap"
           }
          ],
          "heatmapgl": [
           {
            "colorbar": {
             "outlinewidth": 0,
             "ticks": ""
            },
            "colorscale": [
             [
              0,
              "#0d0887"
             ],
             [
              0.1111111111111111,
              "#46039f"
             ],
             [
              0.2222222222222222,
              "#7201a8"
             ],
             [
              0.3333333333333333,
              "#9c179e"
             ],
             [
              0.4444444444444444,
              "#bd3786"
             ],
             [
              0.5555555555555556,
              "#d8576b"
             ],
             [
              0.6666666666666666,
              "#ed7953"
             ],
             [
              0.7777777777777778,
              "#fb9f3a"
             ],
             [
              0.8888888888888888,
              "#fdca26"
             ],
             [
              1,
              "#f0f921"
             ]
            ],
            "type": "heatmapgl"
           }
          ],
          "histogram": [
           {
            "marker": {
             "colorbar": {
              "outlinewidth": 0,
              "ticks": ""
             }
            },
            "type": "histogram"
           }
          ],
          "histogram2d": [
           {
            "colorbar": {
             "outlinewidth": 0,
             "ticks": ""
            },
            "colorscale": [
             [
              0,
              "#0d0887"
             ],
             [
              0.1111111111111111,
              "#46039f"
             ],
             [
              0.2222222222222222,
              "#7201a8"
             ],
             [
              0.3333333333333333,
              "#9c179e"
             ],
             [
              0.4444444444444444,
              "#bd3786"
             ],
             [
              0.5555555555555556,
              "#d8576b"
             ],
             [
              0.6666666666666666,
              "#ed7953"
             ],
             [
              0.7777777777777778,
              "#fb9f3a"
             ],
             [
              0.8888888888888888,
              "#fdca26"
             ],
             [
              1,
              "#f0f921"
             ]
            ],
            "type": "histogram2d"
           }
          ],
          "histogram2dcontour": [
           {
            "colorbar": {
             "outlinewidth": 0,
             "ticks": ""
            },
            "colorscale": [
             [
              0,
              "#0d0887"
             ],
             [
              0.1111111111111111,
              "#46039f"
             ],
             [
              0.2222222222222222,
              "#7201a8"
             ],
             [
              0.3333333333333333,
              "#9c179e"
             ],
             [
              0.4444444444444444,
              "#bd3786"
             ],
             [
              0.5555555555555556,
              "#d8576b"
             ],
             [
              0.6666666666666666,
              "#ed7953"
             ],
             [
              0.7777777777777778,
              "#fb9f3a"
             ],
             [
              0.8888888888888888,
              "#fdca26"
             ],
             [
              1,
              "#f0f921"
             ]
            ],
            "type": "histogram2dcontour"
           }
          ],
          "mesh3d": [
           {
            "colorbar": {
             "outlinewidth": 0,
             "ticks": ""
            },
            "type": "mesh3d"
           }
          ],
          "parcoords": [
           {
            "line": {
             "colorbar": {
              "outlinewidth": 0,
              "ticks": ""
             }
            },
            "type": "parcoords"
           }
          ],
          "pie": [
           {
            "automargin": true,
            "type": "pie"
           }
          ],
          "scatter": [
           {
            "marker": {
             "line": {
              "color": "#283442"
             }
            },
            "type": "scatter"
           }
          ],
          "scatter3d": [
           {
            "line": {
             "colorbar": {
              "outlinewidth": 0,
              "ticks": ""
             }
            },
            "marker": {
             "colorbar": {
              "outlinewidth": 0,
              "ticks": ""
             }
            },
            "type": "scatter3d"
           }
          ],
          "scattercarpet": [
           {
            "marker": {
             "colorbar": {
              "outlinewidth": 0,
              "ticks": ""
             }
            },
            "type": "scattercarpet"
           }
          ],
          "scattergeo": [
           {
            "marker": {
             "colorbar": {
              "outlinewidth": 0,
              "ticks": ""
             }
            },
            "type": "scattergeo"
           }
          ],
          "scattergl": [
           {
            "marker": {
             "line": {
              "color": "#283442"
             }
            },
            "type": "scattergl"
           }
          ],
          "scattermapbox": [
           {
            "marker": {
             "colorbar": {
              "outlinewidth": 0,
              "ticks": ""
             }
            },
            "type": "scattermapbox"
           }
          ],
          "scatterpolar": [
           {
            "marker": {
             "colorbar": {
              "outlinewidth": 0,
              "ticks": ""
             }
            },
            "type": "scatterpolar"
           }
          ],
          "scatterpolargl": [
           {
            "marker": {
             "colorbar": {
              "outlinewidth": 0,
              "ticks": ""
             }
            },
            "type": "scatterpolargl"
           }
          ],
          "scatterternary": [
           {
            "marker": {
             "colorbar": {
              "outlinewidth": 0,
              "ticks": ""
             }
            },
            "type": "scatterternary"
           }
          ],
          "surface": [
           {
            "colorbar": {
             "outlinewidth": 0,
             "ticks": ""
            },
            "colorscale": [
             [
              0,
              "#0d0887"
             ],
             [
              0.1111111111111111,
              "#46039f"
             ],
             [
              0.2222222222222222,
              "#7201a8"
             ],
             [
              0.3333333333333333,
              "#9c179e"
             ],
             [
              0.4444444444444444,
              "#bd3786"
             ],
             [
              0.5555555555555556,
              "#d8576b"
             ],
             [
              0.6666666666666666,
              "#ed7953"
             ],
             [
              0.7777777777777778,
              "#fb9f3a"
             ],
             [
              0.8888888888888888,
              "#fdca26"
             ],
             [
              1,
              "#f0f921"
             ]
            ],
            "type": "surface"
           }
          ],
          "table": [
           {
            "cells": {
             "fill": {
              "color": "#506784"
             },
             "line": {
              "color": "rgb(17,17,17)"
             }
            },
            "header": {
             "fill": {
              "color": "#2a3f5f"
             },
             "line": {
              "color": "rgb(17,17,17)"
             }
            },
            "type": "table"
           }
          ]
         },
         "layout": {
          "annotationdefaults": {
           "arrowcolor": "#f2f5fa",
           "arrowhead": 0,
           "arrowwidth": 1
          },
          "autotypenumbers": "strict",
          "coloraxis": {
           "colorbar": {
            "outlinewidth": 0,
            "ticks": ""
           }
          },
          "colorscale": {
           "diverging": [
            [
             0,
             "#8e0152"
            ],
            [
             0.1,
             "#c51b7d"
            ],
            [
             0.2,
             "#de77ae"
            ],
            [
             0.3,
             "#f1b6da"
            ],
            [
             0.4,
             "#fde0ef"
            ],
            [
             0.5,
             "#f7f7f7"
            ],
            [
             0.6,
             "#e6f5d0"
            ],
            [
             0.7,
             "#b8e186"
            ],
            [
             0.8,
             "#7fbc41"
            ],
            [
             0.9,
             "#4d9221"
            ],
            [
             1,
             "#276419"
            ]
           ],
           "sequential": [
            [
             0,
             "#0d0887"
            ],
            [
             0.1111111111111111,
             "#46039f"
            ],
            [
             0.2222222222222222,
             "#7201a8"
            ],
            [
             0.3333333333333333,
             "#9c179e"
            ],
            [
             0.4444444444444444,
             "#bd3786"
            ],
            [
             0.5555555555555556,
             "#d8576b"
            ],
            [
             0.6666666666666666,
             "#ed7953"
            ],
            [
             0.7777777777777778,
             "#fb9f3a"
            ],
            [
             0.8888888888888888,
             "#fdca26"
            ],
            [
             1,
             "#f0f921"
            ]
           ],
           "sequentialminus": [
            [
             0,
             "#0d0887"
            ],
            [
             0.1111111111111111,
             "#46039f"
            ],
            [
             0.2222222222222222,
             "#7201a8"
            ],
            [
             0.3333333333333333,
             "#9c179e"
            ],
            [
             0.4444444444444444,
             "#bd3786"
            ],
            [
             0.5555555555555556,
             "#d8576b"
            ],
            [
             0.6666666666666666,
             "#ed7953"
            ],
            [
             0.7777777777777778,
             "#fb9f3a"
            ],
            [
             0.8888888888888888,
             "#fdca26"
            ],
            [
             1,
             "#f0f921"
            ]
           ]
          },
          "colorway": [
           "#636efa",
           "#EF553B",
           "#00cc96",
           "#ab63fa",
           "#FFA15A",
           "#19d3f3",
           "#FF6692",
           "#B6E880",
           "#FF97FF",
           "#FECB52"
          ],
          "font": {
           "color": "#f2f5fa"
          },
          "geo": {
           "bgcolor": "rgb(17,17,17)",
           "lakecolor": "rgb(17,17,17)",
           "landcolor": "rgb(17,17,17)",
           "showlakes": true,
           "showland": true,
           "subunitcolor": "#506784"
          },
          "hoverlabel": {
           "align": "left"
          },
          "hovermode": "closest",
          "mapbox": {
           "style": "dark"
          },
          "paper_bgcolor": "rgb(17,17,17)",
          "plot_bgcolor": "rgb(17,17,17)",
          "polar": {
           "angularaxis": {
            "gridcolor": "#506784",
            "linecolor": "#506784",
            "ticks": ""
           },
           "bgcolor": "rgb(17,17,17)",
           "radialaxis": {
            "gridcolor": "#506784",
            "linecolor": "#506784",
            "ticks": ""
           }
          },
          "scene": {
           "xaxis": {
            "backgroundcolor": "rgb(17,17,17)",
            "gridcolor": "#506784",
            "gridwidth": 2,
            "linecolor": "#506784",
            "showbackground": true,
            "ticks": "",
            "zerolinecolor": "#C8D4E3"
           },
           "yaxis": {
            "backgroundcolor": "rgb(17,17,17)",
            "gridcolor": "#506784",
            "gridwidth": 2,
            "linecolor": "#506784",
            "showbackground": true,
            "ticks": "",
            "zerolinecolor": "#C8D4E3"
           },
           "zaxis": {
            "backgroundcolor": "rgb(17,17,17)",
            "gridcolor": "#506784",
            "gridwidth": 2,
            "linecolor": "#506784",
            "showbackground": true,
            "ticks": "",
            "zerolinecolor": "#C8D4E3"
           }
          },
          "shapedefaults": {
           "line": {
            "color": "#f2f5fa"
           }
          },
          "sliderdefaults": {
           "bgcolor": "#C8D4E3",
           "bordercolor": "rgb(17,17,17)",
           "borderwidth": 1,
           "tickwidth": 0
          },
          "ternary": {
           "aaxis": {
            "gridcolor": "#506784",
            "linecolor": "#506784",
            "ticks": ""
           },
           "baxis": {
            "gridcolor": "#506784",
            "linecolor": "#506784",
            "ticks": ""
           },
           "bgcolor": "rgb(17,17,17)",
           "caxis": {
            "gridcolor": "#506784",
            "linecolor": "#506784",
            "ticks": ""
           }
          },
          "title": {
           "x": 0.05
          },
          "updatemenudefaults": {
           "bgcolor": "#506784",
           "borderwidth": 0
          },
          "xaxis": {
           "automargin": true,
           "gridcolor": "#283442",
           "linecolor": "#506784",
           "ticks": "",
           "title": {
            "standoff": 15
           },
           "zerolinecolor": "#283442",
           "zerolinewidth": 2
          },
          "yaxis": {
           "automargin": true,
           "gridcolor": "#283442",
           "linecolor": "#506784",
           "ticks": "",
           "title": {
            "standoff": 15
           },
           "zerolinecolor": "#283442",
           "zerolinewidth": 2
          }
         }
        },
        "title": {
         "text": "Portfolio Vs Benchmark returns",
         "x": 0.5
        },
        "yaxis": {
         "title": {
          "text": "Returns %"
         }
        }
       }
      },
      "text/html": [
       "<div>                            <div id=\"cf529642-d079-4dc9-ba73-f76cc56058cc\" class=\"plotly-graph-div\" style=\"height:525px; width:100%;\"></div>            <script type=\"text/javascript\">                require([\"plotly\"], function(Plotly) {                    window.PLOTLYENV=window.PLOTLYENV || {};                                    if (document.getElementById(\"cf529642-d079-4dc9-ba73-f76cc56058cc\")) {                    Plotly.newPlot(                        \"cf529642-d079-4dc9-ba73-f76cc56058cc\",                        [{\"marker\": {\"color\": \"#4086AA\", \"line\": {\"color\": \"#4086AA\"}}, \"name\": \"Portfolio\", \"opacity\": 0.9, \"type\": \"bar\", \"x\": [\"January:2007\", \"February:2007\", \"March:2007\", \"April:2007\", \"May:2007\", \"June:2007\", \"July:2007\", \"August:2007\", \"September:2007\", \"October:2007\", \"November:2007\", \"December:2007\", \"January:2008\", \"February:2008\", \"March:2008\", \"April:2008\", \"May:2008\", \"June:2008\", \"July:2008\", \"August:2008\", \"September:2008\", \"October:2008\", \"November:2008\", \"December:2008\", \"January:2009\", \"February:2009\", \"March:2009\", \"April:2009\", \"May:2009\", \"June:2009\", \"July:2009\", \"August:2009\", \"September:2009\", \"October:2009\", \"November:2009\", \"December:2009\", \"January:2010\", \"February:2010\", \"March:2010\", \"April:2010\", \"May:2010\", \"June:2010\", \"July:2010\", \"August:2010\", \"September:2010\", \"October:2010\", \"November:2010\", \"December:2010\", \"January:2011\", \"February:2011\", \"March:2011\", \"April:2011\", \"May:2011\", \"June:2011\", \"July:2011\", \"August:2011\", \"September:2011\", \"October:2011\", \"November:2011\", \"December:2011\", \"January:2012\", \"February:2012\", \"March:2012\", \"April:2012\", \"May:2012\", \"June:2012\", \"July:2012\", \"August:2012\", \"September:2012\", \"October:2012\", \"November:2012\", \"December:2012\", \"January:2013\", \"February:2013\", \"March:2013\", \"April:2013\", \"May:2013\", \"June:2013\", \"July:2013\", \"August:2013\", \"September:2013\", \"October:2013\", \"November:2013\", \"December:2013\", \"January:2014\", \"February:2014\", \"March:2014\", \"April:2014\", \"May:2014\", \"June:2014\", \"July:2014\", \"August:2014\", \"September:2014\", \"October:2014\", \"November:2014\", \"December:2014\", \"January:2015\", \"February:2015\", \"March:2015\", \"April:2015\", \"May:2015\", \"June:2015\", \"July:2015\", \"August:2015\", \"September:2015\", \"October:2015\", \"November:2015\", \"December:2015\", \"January:2016\", \"February:2016\", \"March:2016\", \"April:2016\", \"May:2016\", \"June:2016\", \"July:2016\", \"August:2016\", \"September:2016\", \"October:2016\", \"November:2016\", \"December:2016\", \"January:2017\", \"February:2017\", \"March:2017\", \"April:2017\", \"May:2017\", \"June:2017\", \"July:2017\", \"August:2017\", \"September:2017\", \"October:2017\", \"November:2017\", \"December:2017\", \"January:2018\", \"February:2018\", \"March:2018\", \"April:2018\", \"May:2018\", \"June:2018\", \"July:2018\", \"August:2018\", \"September:2018\", \"October:2018\", \"November:2018\", \"December:2018\", \"January:2019\", \"February:2019\", \"March:2019\", \"April:2019\", \"May:2019\", \"June:2019\", \"July:2019\", \"August:2019\", \"September:2019\", \"October:2019\", \"November:2019\", \"December:2019\", \"January:2020\", \"February:2020\", \"March:2020\", \"April:2020\", \"May:2020\", \"June:2020\", \"July:2020\", \"August:2020\", \"September:2020\", \"October:2020\", \"November:2020\", \"December:2020\", \"January:2021\", \"February:2021\", \"March:2021\", \"April:2021\", \"May:2021\", \"June:2021\", \"July:2021\", \"August:2021\", \"September:2021\", \"October:2021\", \"November:2021\", \"December:2021\"], \"y\": [0.6664424261027124, -0.8480561028042288, 0.13325591072106402, 1.3969462023106183, -0.5561985494711591, -1.5839875876723721, -1.0576871294094392, -0.2466956984908003, 0.9627329877379927, 0.97051529923283, -1.7050790359871182, -1.1152243400921422, -2.424580392992631, 0.0669801314278108, -1.0430161905033892, 1.8802018238523572, 0.2686346513272704, -3.300395750508082, 0.6429370730243592, 0.2376424012343936, -4.035897233484406, -5.5864237609480245, 1.1001429155101794, 0.8861070917640548, -1.7099052679985935, -3.043402224868374, 2.0726600070241687, 3.5729739494763115, 2.4396225677966417, 0.7163117213031968, 4.29168355459197, 1.9084752683445887, 1.6584838569601128, -0.2790789655263736, 1.2894817756320662, 0.6553907520469175, -0.3625828765954589, 1.1901554973342925, 1.9397701543595367, -0.19944399535282387, -1.6762199501197912, -0.7199821597372514, 2.1711441082447793, 0.46950044326744084, 1.8804893103037166, 1.1142559753977366, -1.2639814686161341, 1.5688970910852824, 0.2771031389065199, 1.0027571554652002, -0.48943699563678356, 1.5978650135000223, 0.3753679541706952, -0.7757161453545561, -0.12934935667504358, -1.3685343689868903, -1.5519648403632993, 2.5834071299616146, -1.3812589790181002, 1.3529086744467334, 2.047594655792601, 1.8727652086706528, 0.374476310913457, -0.055615476735708554, -1.6250512714243832, 1.2279345669479445, 1.6633542050577088, 0.7686788551151279, 1.0800290411513018, 0.2440912923529619, 0.8775330328866275, 0.5428531549716356, 1.4014350555919586, 0.7919644273399118, 0.8960314316445274, 1.6440724463058844, -0.49787210533523046, -2.0542542901422314, 1.719768258340236, -0.6932117734019536, 2.0798869232673365, 1.7324308587236985, 0.530485387530354, -0.14593757845510558, 0.08854879040771126, 1.893377862952711, 0.40734099039320004, 0.9159156707613013, 1.3426753515402694, 0.578041475551599, -0.27954357591745166, 1.5873821804054427, -0.8179892515085292, 0.36720703515024133, 1.4151491484576044, -0.2166448419440351, -0.10750331222601954, 2.315973310680883, 0.22541077492540806, 0.6660501024075585, 0.16125312811009151, -1.9707879259821954, 1.7990390715042124, -2.4155974039123094, -1.2033574454950184, 3.1424764844946234, 0.25788065611282024, -1.458151525493413, -1.0258205632172481, 0.09647186755137971, 1.7163825114564242, 0.6388890464084203, 0.7627111191558983, 0.5795144403983493, 1.3871445578641035, 0.07156990478580776, 0.25251016479573857, -1.6392309990569551, -0.6647919358398766, 1.0927922119711588, 0.6365181588273887, 1.840233190304251, 0.36475572531507194, 1.0668822870669321, 1.2344664307330222, -0.45390234890138, 1.0119148023227154, 0.5079619636167134, 0.5233470049883977, 1.0589421048189824, 0.6813905509024215, 0.5901791138950041, 1.1966014965003027, -1.915464231034706, -0.2966573960432795, 0.46800973732072265, -0.23676544586856246, 0.07554711401222944, 1.4325206164528677, 0.27679460017153085, -0.15894266755414085, -2.258909602110766, 0.45972306617073244, -2.280621553012717, 3.6369769401026764, 1.3998039338512076, 1.4965155558075751, 1.5625677749130644, -1.167034026642821, 2.9086481454220907, 0.8982381901803634, 0.5051045656031778, 0.02207138686368456, 0.28380963502764683, 1.3505827572512372, 0.8140091742486144, 0.7581651946249662, -3.0343194884931943, -6.874699411585884, 4.73749955153489, 0.9821100389808453, 1.2808301237429116, 2.010854266174139, 1.594429354406883, -0.34488756933236175, -1.3099970944792225, 4.894529575778213, 1.960271252349392, -1.1417657011657305, -0.31609631152540035, 1.894389362068516, 1.287083164066878, 0.9188886579366494, 1.2824619436011713, 1.1190960490703314, 0.9283431447528924, -2.7616655712843285]}, {\"marker\": {\"color\": \"#e24e4e\", \"line\": {\"color\": \"#e24e4e\"}}, \"name\": \"Bench\", \"opacity\": 0.9, \"type\": \"bar\", \"x\": [\"January:2007\", \"February:2007\", \"March:2007\", \"April:2007\", \"May:2007\", \"June:2007\", \"July:2007\", \"August:2007\", \"September:2007\", \"October:2007\", \"November:2007\", \"December:2007\", \"January:2008\", \"February:2008\", \"March:2008\", \"April:2008\", \"May:2008\", \"June:2008\", \"July:2008\", \"August:2008\", \"September:2008\", \"October:2008\", \"November:2008\", \"December:2008\", \"January:2009\", \"February:2009\", \"March:2009\", \"April:2009\", \"May:2009\", \"June:2009\", \"July:2009\", \"August:2009\", \"September:2009\", \"October:2009\", \"November:2009\", \"December:2009\", \"January:2010\", \"February:2010\", \"March:2010\", \"April:2010\", \"May:2010\", \"June:2010\", \"July:2010\", \"August:2010\", \"September:2010\", \"October:2010\", \"November:2010\", \"December:2010\", \"January:2011\", \"February:2011\", \"March:2011\", \"April:2011\", \"May:2011\", \"June:2011\", \"July:2011\", \"August:2011\", \"September:2011\", \"October:2011\", \"November:2011\", \"December:2011\", \"January:2012\", \"February:2012\", \"March:2012\", \"April:2012\", \"May:2012\", \"June:2012\", \"July:2012\", \"August:2012\", \"September:2012\", \"October:2012\", \"November:2012\", \"December:2012\", \"January:2013\", \"February:2013\", \"March:2013\", \"April:2013\", \"May:2013\", \"June:2013\", \"July:2013\", \"August:2013\", \"September:2013\", \"October:2013\", \"November:2013\", \"December:2013\", \"January:2014\", \"February:2014\", \"March:2014\", \"April:2014\", \"May:2014\", \"June:2014\", \"July:2014\", \"August:2014\", \"September:2014\", \"October:2014\", \"November:2014\", \"December:2014\", \"January:2015\", \"February:2015\", \"March:2015\", \"April:2015\", \"May:2015\", \"June:2015\", \"July:2015\", \"August:2015\", \"September:2015\", \"October:2015\", \"November:2015\", \"December:2015\", \"January:2016\", \"February:2016\", \"March:2016\", \"April:2016\", \"May:2016\", \"June:2016\", \"July:2016\", \"August:2016\", \"September:2016\", \"October:2016\", \"November:2016\", \"December:2016\", \"January:2017\", \"February:2017\", \"March:2017\", \"April:2017\", \"May:2017\", \"June:2017\", \"July:2017\", \"August:2017\", \"September:2017\", \"October:2017\", \"November:2017\", \"December:2017\", \"January:2018\", \"February:2018\", \"March:2018\", \"April:2018\", \"May:2018\", \"June:2018\", \"July:2018\", \"August:2018\", \"September:2018\", \"October:2018\", \"November:2018\", \"December:2018\", \"January:2019\", \"February:2019\", \"March:2019\", \"April:2019\", \"May:2019\", \"June:2019\", \"July:2019\", \"August:2019\", \"September:2019\", \"October:2019\", \"November:2019\", \"December:2019\", \"January:2020\", \"February:2020\", \"March:2020\", \"April:2020\", \"May:2020\", \"June:2020\", \"July:2020\", \"August:2020\", \"September:2020\", \"October:2020\", \"November:2020\", \"December:2020\", \"January:2021\", \"February:2021\", \"March:2021\", \"April:2021\", \"May:2021\", \"June:2021\", \"July:2021\", \"August:2021\", \"September:2021\", \"October:2021\", \"November:2021\", \"December:2021\"], \"y\": [0.6359751206145603, -0.19805610280422878, 0.7832559107210639, 2.0469462023106186, 0.09380145052884084, -0.9339875876723719, -0.40768712940943913, 0.4033043015091997, 1.6127329877379926, 1.6205152992328296, -1.0550790359871183, -1.1235002611002798, -2.7214970148570097, 0.052611467911647405, -1.1276889941600718, 1.999618035476564, 0.28770436376147285, -3.541660186618413, 0.5625984182900751, 0.17464760001026317, -4.7386417876031945, -7.186741535853444, -0.11430984387218145, 0.8865924859022212, -2.7114203357684312, -4.455415130095255, 3.0702672097672012, 4.804235051037718, 3.2231128796101127, 0.60791315308651, 4.9821416719491545, 2.189156800844335, 1.9209568586817483, -0.4229892960127507, 1.4357194925568284, 0.9299179031353194, -0.720511569498226, 1.2970179214814228, 2.353402263997456, -0.2711807720607367, -2.528513651425044, -1.043502061723169, 2.6388257397159185, 0.058216222012829645, 2.4884625846905686, 1.3696298837253318, -1.3520752478138758, 1.941733585445147, 0.35506624617913596, 1.1539418431829462, -0.5672278102755274, 1.780690543329012, 0.25465737777085834, -1.0461126309606943, -0.571202843074514, -2.023262597270346, -2.211708122260133, 3.264343281153242, -1.5126677242906412, 1.3927184224962736, 2.2725105146282076, 2.146325420368804, 0.49853028432621793, -0.1368828341527195, -2.3698657542794646, 1.6138481426577262, 1.8122114917470808, 0.8196368198087094, 1.24903324618864, 0.23542112786742955, 1.004191677443716, 0.632523869640404, 1.8014546749263793, 0.8433066656675459, 1.0059964318522758, 1.7150600868653296, -0.44712302846207747, -2.12692253250057, 1.840596492297971, -0.7435108298508275, 2.2063883341644033, 1.8027982510027296, 0.54849483210277, -0.1259223253661618, -0.028862007471953076, 1.9766990993083, 0.4068722317047041, 0.9255796086536218, 1.3671356964249493, 0.5577930203385474, -0.31509787013484947, 1.6048941780062331, -0.8381731338532089, 0.3676339984288768, 1.433056518781803, -0.2690474839148032, -0.30666509464464237, 2.421637684251092, 0.20365169547893192, 0.7078724583594204, 0.17575851436445852, -1.9940396828079854, 1.7866049325814082, -2.576719802937243, -1.335317276713871, 3.2693851320028817, 0.22833098434256296, -1.464862796591981, -1.3287262163303724, -0.04317917513139251, 1.8724006875062538, 0.7237577538795753, 0.7862931787687867, 0.47286704393118845, 1.456822427774448, 0.0931645540775272, 0.25109992543262294, -1.6776235964362691, -0.6272534573770105, 1.1372150029051824, 0.6724316098862526, 1.8528802244949774, 0.37156885339238493, 1.0601120780196405, 1.2157377116012758, -0.4685735878045616, 0.9599071809977078, 0.5174292439857642, 0.45874743254225303, 1.0091750036550533, 0.6283447333652681, 0.5524015191014664, 0.922153044203438, -1.791663776250647, -0.2268094770148804, 0.41117664848591634, -0.23077766477717915, 0.0838381292761431, 1.2742909818140846, 0.277541555717486, -0.21673468177927593, -2.071673941075695, 0.4308269702803169, -2.2010375616310265, 3.4515750824093265, 1.3020314081310191, 1.483198432259788, 1.387220776960535, -0.989536351072902, 2.680393347471514, 0.9241012029098966, 0.6179291993189869, -0.12783318789030568, 0.11857061782973342, 1.252398566161469, 0.579021611548176, 0.898965563898852, -2.742571082481779, -6.845717016714352, 4.511563220500235, 1.6321100389808452, 1.2657010755021558, 1.9477559518646936, 1.425297728218972, -0.27516691837379587, -1.316184644843561, 4.492851932536583, 1.7813370493202318, -0.4917657011657306, -0.3415112560171747, 1.8236844872407132, 1.2008870032047476, 0.847383156288669, 1.1904073251880765, 1.1227458056903494, 0.8134130445356075, -2.647104386508877]}],                        {\"barmode\": \"group\", \"legend\": {\"font\": {\"size\": 12}, \"traceorder\": \"normal\", \"x\": 0.03, \"y\": 0.97}, \"paper_bgcolor\": \"#131313\", \"plot_bgcolor\": \"#131313\", \"template\": {\"data\": {\"bar\": [{\"error_x\": {\"color\": \"#f2f5fa\"}, \"error_y\": {\"color\": \"#f2f5fa\"}, \"marker\": {\"line\": {\"color\": \"rgb(17,17,17)\", \"width\": 0.5}}, \"type\": \"bar\"}], \"barpolar\": [{\"marker\": {\"line\": {\"color\": \"rgb(17,17,17)\", \"width\": 0.5}}, \"type\": \"barpolar\"}], \"carpet\": [{\"aaxis\": {\"endlinecolor\": \"#A2B1C6\", \"gridcolor\": \"#506784\", \"linecolor\": \"#506784\", \"minorgridcolor\": \"#506784\", \"startlinecolor\": \"#A2B1C6\"}, \"baxis\": {\"endlinecolor\": \"#A2B1C6\", \"gridcolor\": \"#506784\", \"linecolor\": \"#506784\", \"minorgridcolor\": \"#506784\", \"startlinecolor\": \"#A2B1C6\"}, \"type\": \"carpet\"}], \"choropleth\": [{\"colorbar\": {\"outlinewidth\": 0, \"ticks\": \"\"}, \"type\": \"choropleth\"}], \"contour\": [{\"colorbar\": {\"outlinewidth\": 0, \"ticks\": \"\"}, \"colorscale\": [[0.0, \"#0d0887\"], [0.1111111111111111, \"#46039f\"], [0.2222222222222222, \"#7201a8\"], [0.3333333333333333, \"#9c179e\"], [0.4444444444444444, \"#bd3786\"], [0.5555555555555556, \"#d8576b\"], [0.6666666666666666, \"#ed7953\"], [0.7777777777777778, \"#fb9f3a\"], [0.8888888888888888, \"#fdca26\"], [1.0, \"#f0f921\"]], \"type\": \"contour\"}], \"contourcarpet\": [{\"colorbar\": {\"outlinewidth\": 0, \"ticks\": \"\"}, \"type\": \"contourcarpet\"}], \"heatmap\": [{\"colorbar\": {\"outlinewidth\": 0, \"ticks\": \"\"}, \"colorscale\": [[0.0, \"#0d0887\"], [0.1111111111111111, \"#46039f\"], [0.2222222222222222, \"#7201a8\"], [0.3333333333333333, \"#9c179e\"], [0.4444444444444444, \"#bd3786\"], [0.5555555555555556, \"#d8576b\"], [0.6666666666666666, \"#ed7953\"], [0.7777777777777778, \"#fb9f3a\"], [0.8888888888888888, \"#fdca26\"], [1.0, \"#f0f921\"]], \"type\": \"heatmap\"}], \"heatmapgl\": [{\"colorbar\": {\"outlinewidth\": 0, \"ticks\": \"\"}, \"colorscale\": [[0.0, \"#0d0887\"], [0.1111111111111111, \"#46039f\"], [0.2222222222222222, \"#7201a8\"], [0.3333333333333333, \"#9c179e\"], [0.4444444444444444, \"#bd3786\"], [0.5555555555555556, \"#d8576b\"], [0.6666666666666666, \"#ed7953\"], [0.7777777777777778, \"#fb9f3a\"], [0.8888888888888888, \"#fdca26\"], [1.0, \"#f0f921\"]], \"type\": \"heatmapgl\"}], \"histogram\": [{\"marker\": {\"colorbar\": {\"outlinewidth\": 0, \"ticks\": \"\"}}, \"type\": \"histogram\"}], \"histogram2d\": [{\"colorbar\": {\"outlinewidth\": 0, \"ticks\": \"\"}, \"colorscale\": [[0.0, \"#0d0887\"], [0.1111111111111111, \"#46039f\"], [0.2222222222222222, \"#7201a8\"], [0.3333333333333333, \"#9c179e\"], [0.4444444444444444, \"#bd3786\"], [0.5555555555555556, \"#d8576b\"], [0.6666666666666666, \"#ed7953\"], [0.7777777777777778, \"#fb9f3a\"], [0.8888888888888888, \"#fdca26\"], [1.0, \"#f0f921\"]], \"type\": \"histogram2d\"}], \"histogram2dcontour\": [{\"colorbar\": {\"outlinewidth\": 0, \"ticks\": \"\"}, \"colorscale\": [[0.0, \"#0d0887\"], [0.1111111111111111, \"#46039f\"], [0.2222222222222222, \"#7201a8\"], [0.3333333333333333, \"#9c179e\"], [0.4444444444444444, \"#bd3786\"], [0.5555555555555556, \"#d8576b\"], [0.6666666666666666, \"#ed7953\"], [0.7777777777777778, \"#fb9f3a\"], [0.8888888888888888, \"#fdca26\"], [1.0, \"#f0f921\"]], \"type\": \"histogram2dcontour\"}], \"mesh3d\": [{\"colorbar\": {\"outlinewidth\": 0, \"ticks\": \"\"}, \"type\": \"mesh3d\"}], \"parcoords\": [{\"line\": {\"colorbar\": {\"outlinewidth\": 0, \"ticks\": \"\"}}, \"type\": \"parcoords\"}], \"pie\": [{\"automargin\": true, \"type\": \"pie\"}], \"scatter\": [{\"marker\": {\"line\": {\"color\": \"#283442\"}}, \"type\": \"scatter\"}], \"scatter3d\": [{\"line\": {\"colorbar\": {\"outlinewidth\": 0, \"ticks\": \"\"}}, \"marker\": {\"colorbar\": {\"outlinewidth\": 0, \"ticks\": \"\"}}, \"type\": \"scatter3d\"}], \"scattercarpet\": [{\"marker\": {\"colorbar\": {\"outlinewidth\": 0, \"ticks\": \"\"}}, \"type\": \"scattercarpet\"}], \"scattergeo\": [{\"marker\": {\"colorbar\": {\"outlinewidth\": 0, \"ticks\": \"\"}}, \"type\": \"scattergeo\"}], \"scattergl\": [{\"marker\": {\"line\": {\"color\": \"#283442\"}}, \"type\": \"scattergl\"}], \"scattermapbox\": [{\"marker\": {\"colorbar\": {\"outlinewidth\": 0, \"ticks\": \"\"}}, \"type\": \"scattermapbox\"}], \"scatterpolar\": [{\"marker\": {\"colorbar\": {\"outlinewidth\": 0, \"ticks\": \"\"}}, \"type\": \"scatterpolar\"}], \"scatterpolargl\": [{\"marker\": {\"colorbar\": {\"outlinewidth\": 0, \"ticks\": \"\"}}, \"type\": \"scatterpolargl\"}], \"scatterternary\": [{\"marker\": {\"colorbar\": {\"outlinewidth\": 0, \"ticks\": \"\"}}, \"type\": \"scatterternary\"}], \"surface\": [{\"colorbar\": {\"outlinewidth\": 0, \"ticks\": \"\"}, \"colorscale\": [[0.0, \"#0d0887\"], [0.1111111111111111, \"#46039f\"], [0.2222222222222222, \"#7201a8\"], [0.3333333333333333, \"#9c179e\"], [0.4444444444444444, \"#bd3786\"], [0.5555555555555556, \"#d8576b\"], [0.6666666666666666, \"#ed7953\"], [0.7777777777777778, \"#fb9f3a\"], [0.8888888888888888, \"#fdca26\"], [1.0, \"#f0f921\"]], \"type\": \"surface\"}], \"table\": [{\"cells\": {\"fill\": {\"color\": \"#506784\"}, \"line\": {\"color\": \"rgb(17,17,17)\"}}, \"header\": {\"fill\": {\"color\": \"#2a3f5f\"}, \"line\": {\"color\": \"rgb(17,17,17)\"}}, \"type\": \"table\"}]}, \"layout\": {\"annotationdefaults\": {\"arrowcolor\": \"#f2f5fa\", \"arrowhead\": 0, \"arrowwidth\": 1}, \"autotypenumbers\": \"strict\", \"coloraxis\": {\"colorbar\": {\"outlinewidth\": 0, \"ticks\": \"\"}}, \"colorscale\": {\"diverging\": [[0, \"#8e0152\"], [0.1, \"#c51b7d\"], [0.2, \"#de77ae\"], [0.3, \"#f1b6da\"], [0.4, \"#fde0ef\"], [0.5, \"#f7f7f7\"], [0.6, \"#e6f5d0\"], [0.7, \"#b8e186\"], [0.8, \"#7fbc41\"], [0.9, \"#4d9221\"], [1, \"#276419\"]], \"sequential\": [[0.0, \"#0d0887\"], [0.1111111111111111, \"#46039f\"], [0.2222222222222222, \"#7201a8\"], [0.3333333333333333, \"#9c179e\"], [0.4444444444444444, \"#bd3786\"], [0.5555555555555556, \"#d8576b\"], [0.6666666666666666, \"#ed7953\"], [0.7777777777777778, \"#fb9f3a\"], [0.8888888888888888, \"#fdca26\"], [1.0, \"#f0f921\"]], \"sequentialminus\": [[0.0, \"#0d0887\"], [0.1111111111111111, \"#46039f\"], [0.2222222222222222, \"#7201a8\"], [0.3333333333333333, \"#9c179e\"], [0.4444444444444444, \"#bd3786\"], [0.5555555555555556, \"#d8576b\"], [0.6666666666666666, \"#ed7953\"], [0.7777777777777778, \"#fb9f3a\"], [0.8888888888888888, \"#fdca26\"], [1.0, \"#f0f921\"]]}, \"colorway\": [\"#636efa\", \"#EF553B\", \"#00cc96\", \"#ab63fa\", \"#FFA15A\", \"#19d3f3\", \"#FF6692\", \"#B6E880\", \"#FF97FF\", \"#FECB52\"], \"font\": {\"color\": \"#f2f5fa\"}, \"geo\": {\"bgcolor\": \"rgb(17,17,17)\", \"lakecolor\": \"rgb(17,17,17)\", \"landcolor\": \"rgb(17,17,17)\", \"showlakes\": true, \"showland\": true, \"subunitcolor\": \"#506784\"}, \"hoverlabel\": {\"align\": \"left\"}, \"hovermode\": \"closest\", \"mapbox\": {\"style\": \"dark\"}, \"paper_bgcolor\": \"rgb(17,17,17)\", \"plot_bgcolor\": \"rgb(17,17,17)\", \"polar\": {\"angularaxis\": {\"gridcolor\": \"#506784\", \"linecolor\": \"#506784\", \"ticks\": \"\"}, \"bgcolor\": \"rgb(17,17,17)\", \"radialaxis\": {\"gridcolor\": \"#506784\", \"linecolor\": \"#506784\", \"ticks\": \"\"}}, \"scene\": {\"xaxis\": {\"backgroundcolor\": \"rgb(17,17,17)\", \"gridcolor\": \"#506784\", \"gridwidth\": 2, \"linecolor\": \"#506784\", \"showbackground\": true, \"ticks\": \"\", \"zerolinecolor\": \"#C8D4E3\"}, \"yaxis\": {\"backgroundcolor\": \"rgb(17,17,17)\", \"gridcolor\": \"#506784\", \"gridwidth\": 2, \"linecolor\": \"#506784\", \"showbackground\": true, \"ticks\": \"\", \"zerolinecolor\": \"#C8D4E3\"}, \"zaxis\": {\"backgroundcolor\": \"rgb(17,17,17)\", \"gridcolor\": \"#506784\", \"gridwidth\": 2, \"linecolor\": \"#506784\", \"showbackground\": true, \"ticks\": \"\", \"zerolinecolor\": \"#C8D4E3\"}}, \"shapedefaults\": {\"line\": {\"color\": \"#f2f5fa\"}}, \"sliderdefaults\": {\"bgcolor\": \"#C8D4E3\", \"bordercolor\": \"rgb(17,17,17)\", \"borderwidth\": 1, \"tickwidth\": 0}, \"ternary\": {\"aaxis\": {\"gridcolor\": \"#506784\", \"linecolor\": \"#506784\", \"ticks\": \"\"}, \"baxis\": {\"gridcolor\": \"#506784\", \"linecolor\": \"#506784\", \"ticks\": \"\"}, \"bgcolor\": \"rgb(17,17,17)\", \"caxis\": {\"gridcolor\": \"#506784\", \"linecolor\": \"#506784\", \"ticks\": \"\"}}, \"title\": {\"x\": 0.05}, \"updatemenudefaults\": {\"bgcolor\": \"#506784\", \"borderwidth\": 0}, \"xaxis\": {\"automargin\": true, \"gridcolor\": \"#283442\", \"linecolor\": \"#506784\", \"ticks\": \"\", \"title\": {\"standoff\": 15}, \"zerolinecolor\": \"#283442\", \"zerolinewidth\": 2}, \"yaxis\": {\"automargin\": true, \"gridcolor\": \"#283442\", \"linecolor\": \"#506784\", \"ticks\": \"\", \"title\": {\"standoff\": 15}, \"zerolinecolor\": \"#283442\", \"zerolinewidth\": 2}}}, \"title\": {\"text\": \"Portfolio Vs Benchmark returns\", \"x\": 0.5}, \"yaxis\": {\"title\": {\"text\": \"Returns %\"}}},                        {\"responsive\": true}                    ).then(function(){\n",
       "                            \n",
       "var gd = document.getElementById('cf529642-d079-4dc9-ba73-f76cc56058cc');\n",
       "var x = new MutationObserver(function (mutations, observer) {{\n",
       "        var display = window.getComputedStyle(gd).display;\n",
       "        if (!display || display === 'none') {{\n",
       "            console.log([gd, 'removed!']);\n",
       "            Plotly.purge(gd);\n",
       "            observer.disconnect();\n",
       "        }}\n",
       "}});\n",
       "\n",
       "// Listen for the removal of the full notebook cells\n",
       "var notebookContainer = gd.closest('#notebook-container');\n",
       "if (notebookContainer) {{\n",
       "    x.observe(notebookContainer, {childList: true});\n",
       "}}\n",
       "\n",
       "// Listen for the clearing of the current output cell\n",
       "var outputEl = gd.closest('.output');\n",
       "if (outputEl) {{\n",
       "    x.observe(outputEl, {childList: true});\n",
       "}}\n",
       "\n",
       "                        })                };                });            </script>        </div>"
      ]
     },
     "metadata": {},
     "output_type": "display_data"
    }
   ],
   "source": [
    "class Visualization:\n",
    "  \"\"\" Class \"\"\"\n",
    "\n",
    "  def __init__(self, portfolio, bench, weight):\n",
    "    \"\"\" Ini \"\"\"\n",
    "    self.portfolio = portfolio\n",
    "    self.bench = bench\n",
    "    self.weight = weight\n",
    "\n",
    "\n",
    "  def fig_cumulative_returns(self):\n",
    "    fig = go.Figure()\n",
    "\n",
    "    # Add first plot that represent the Cumulative return of the strategie\n",
    "    fig.add_trace(go.Scatter(x=self.portfolio.index, y=self.portfolio.cumsum().values*100,\n",
    "                      mode='lines',\n",
    "                      name=\"Portfolio\"))\n",
    "\n",
    "    # Add second plot that represent the Cumulative return of the Benchmark\n",
    "    fig.add_trace(go.Scatter(x=self.bench.index, y=self.bench.cumsum().values*100,\n",
    "              mode='lines',\n",
    "              name=\"Bench\"))\n",
    "\n",
    "    # Add some layout\n",
    "    fig.update_layout(title=\"Cumulative Returns %\",\n",
    "                xaxis_title=\"Times\",\n",
    "                yaxis_title=\"Cumulative Returns %\", title_x=0.5,\n",
    "                paper_bgcolor=\"#131313\",\n",
    "                plot_bgcolor=\"#131313\",\n",
    "                      legend=dict(\n",
    "                      x=0.03,\n",
    "                      y=0.97,\n",
    "                      traceorder='normal',\n",
    "                      font=dict(size=12)),\n",
    "                template=\"plotly_dark\")\n",
    "    return fig\n",
    "\n",
    "\n",
    "\n",
    "  def fig_weight_portfolio(self):\n",
    "    fig = go.Figure()\n",
    "\n",
    "    # Add as many graphic as it is necessary for each weight\n",
    "    for i, name in zip(np.arange(self.weight.shape[1]), list(self.weight.columns)):\n",
    "      fig.add_trace(go.Scatter(x=self.weight.index, y=(self.weight.iloc[:,i]*100).values,\n",
    "                        mode='lines',\n",
    "                        name=name))\n",
    "\n",
    "\n",
    "    fig.update_layout(title=\"Weights %\",\n",
    "                xaxis_title=\"Times\",\n",
    "                yaxis_title=\"Weight %\", title_x=0.5,\n",
    "                paper_bgcolor=\"#131313\",\n",
    "                plot_bgcolor=\"#131313\",\n",
    "                      legend=dict(\n",
    "                      x=0.03,\n",
    "                      y=0.97,\n",
    "                      traceorder='normal',\n",
    "                      font=dict(size=12)),\n",
    "                template=\"plotly_dark\")\n",
    "    return fig\n",
    "\n",
    "\n",
    "  def fig_drawdown(self):\n",
    "    cum_rets = self.portfolio.cumsum()+1\n",
    "\n",
    "    # Calculate the running maximum\n",
    "    running_max = np.maximum.accumulate(cum_rets.dropna())\n",
    "\n",
    "    # Ensure the value never drops below 1\n",
    "    running_max[running_max < 1] = 1\n",
    "\n",
    "    # Calculate the percentage drawdown\n",
    "    drawdown = (cum_rets)/running_max - 1\n",
    "    self.drawdown = (cum_rets)/running_max - 1\n",
    "\n",
    "\n",
    "\n",
    "    fig = go.Figure()\n",
    "\n",
    "\n",
    "    y = np.concatenate((drawdown,np.array([0 for i in range(len(drawdown))])),axis=0)*100\n",
    "\n",
    "\n",
    "    fig.add_trace(go.Scatter(\n",
    "        x=drawdown.index.append(drawdown.index[::-1]), y=y,\n",
    "        fill='toself',\n",
    "        fillcolor=\"#C71C1C\",\n",
    "        line_color=\"#C71C1C\",\n",
    "        name=\"drawdown\",\n",
    "    ))\n",
    "\n",
    "    fig.update_traces(mode='lines')\n",
    "\n",
    "    fig.update_layout(title=\"Test set drawdown\",\n",
    "                xaxis_title=\"Date\",\n",
    "                yaxis_title=\"Drawdown %\",\n",
    "                      title_x=0.5,\n",
    "                      legend=dict(\n",
    "                    x=0.03,\n",
    "                    y=0.97,\n",
    "                    traceorder='normal',\n",
    "                    font=dict(\n",
    "                        size=12,)), template=\"plotly_dark\"\n",
    "                      )\n",
    "    return fig\n",
    "\n",
    "  def yearly_return_comparaison(self):\n",
    "    p = self.portfolio\n",
    "\n",
    "    def yearly_return_values(p):\n",
    "\n",
    "        total = 0\n",
    "        positif = 0\n",
    "\n",
    "\n",
    "        r=[]\n",
    "        # Loop on each different year\n",
    "        for year in p.index.strftime(\"%y\").unique():\n",
    "            nbm = p.loc[p.index.strftime(\"%y\")==year].index.strftime(\"%m\").unique()\n",
    "            # Loop on each different month\n",
    "            for mois in nbm:\n",
    "\n",
    "                monthly_values =  p.loc[p.index.strftime(\"%y:%m\")==\"{}:{}\".format(year,mois)]\n",
    "                sum_ = monthly_values.sum()\n",
    "\n",
    "                # Verifying that there is at least 75% of the values\n",
    "                if len(monthly_values)>15:\n",
    "\n",
    "                    # Computing sum return\n",
    "                    s = monthly_values.sum()\n",
    "\n",
    "                    if s>0:\n",
    "                        positif+=1\n",
    "\n",
    "                    else:\n",
    "                        pass\n",
    "\n",
    "                    total+=1\n",
    "\n",
    "                else:\n",
    "                    pass\n",
    "                r.append(sum_)\n",
    "\n",
    "\n",
    "\n",
    "        return r\n",
    "    def yearly_return_index(p):\n",
    "        total = 0\n",
    "        positif = 0\n",
    "\n",
    "\n",
    "        r=[]\n",
    "        # Loop on each different year\n",
    "        for year in p.index.strftime(\"%y\").unique():\n",
    "            e = []\n",
    "            nbm = p.loc[p.index.strftime(\"%y\")==year].index.strftime(\"%m\").unique()\n",
    "            # Loop on each different month\n",
    "            for mois in nbm:\n",
    "\n",
    "                monthly_values =  p.loc[p.index.strftime(\"%y:%m\")==\"{}:{}\".format(year,mois)]\n",
    "                sum_ = monthly_values.sum()\n",
    "\n",
    "                # Verifying that there is at least 75% of the values\n",
    "                if len(monthly_values)>15:\n",
    "\n",
    "                    # Computing sum return\n",
    "                    s = monthly_values.sum()\n",
    "\n",
    "                    if s>0:\n",
    "\n",
    "                        positif+=1\n",
    "\n",
    "                    else:\n",
    "                        pass\n",
    "\n",
    "                    total+=1\n",
    "\n",
    "                else:\n",
    "                    pass\n",
    "                e.append(sum_)\n",
    "            r.append(e)\n",
    "\n",
    "\n",
    "\n",
    "\n",
    "        r[0]=[0 for _ in range(12-len(r[0]))] + r[0]\n",
    "\n",
    "        r =  pd.DataFrame(r,columns=[\"January\",\"February\",\"March\",\"April\",\"May\",\"June\",\n",
    "                                        \"July\",\"August\",\"September\",\"October\",\"November\",\"December\"], index=p.index.strftime(\"%y\").unique())\n",
    "\n",
    "        v = []\n",
    "        for i in [i for i in r.index]:\n",
    "            for c in [i for i in r.columns]:\n",
    "                if r.loc[i,c]!=0:\n",
    "                    v.append(\"{}:20{}\".format(c,i))\n",
    "        return v\n",
    "\n",
    "    portfolio = p*100\n",
    "    pf_values = yearly_return_values(portfolio)\n",
    "    pf_index = yearly_return_index(portfolio)\n",
    "\n",
    "    bench = self.bench*100\n",
    "    bench_values = yearly_return_values(bench)\n",
    "    bench_index = yearly_return_index(bench)\n",
    "\n",
    "\n",
    "    fig = go.Figure()\n",
    "    fig.add_trace(go.Bar(name=\"Portfolio\", x=pf_index, y=pf_values, marker_line_color=\"#4086AA\",\n",
    "                          marker_color=\"#4086AA\", opacity=0.9))\n",
    "    fig.add_trace(go.Bar(name=\"Bench\", x=bench_index, y=bench_values, marker_line_color=\"#e24e4e\",\n",
    "                          marker_color=\"#e24e4e\", opacity=0.9))\n",
    "    # Change the bar mode\n",
    "    fig.update_layout(barmode='group', title=\"Portfolio Vs Benchmark returns\",yaxis_title=\"Returns %\",\n",
    "                      paper_bgcolor=\"#131313\",\n",
    "                    plot_bgcolor=\"#131313\",\n",
    "                    legend=dict(\n",
    "                    x=0.03,\n",
    "                    y=0.97,\n",
    "                    traceorder='normal',\n",
    "                    font=dict(\n",
    "                        size=12,)),\n",
    "                      title_x=0.5,\n",
    "                      template=\"plotly_dark\")\n",
    "\n",
    "    return fig\n",
    "\n",
    "reb = Rebalancing(lpp2000, \"LPP 40\", columns, weight_LPP2000_40, cost=0.0013)\n",
    "reb.momentum(0.03)\n",
    "reb.visualisation()\n",
    "\n",
    "vis = Visualization(reb.portfolio, reb.database[reb.benchmark], reb.weight)\n",
    "fig = vis.yearly_return_comparaison()\n",
    "fig.show()"
   ]
  },
  {
   "cell_type": "code",
   "execution_count": 12,
   "metadata": {},
   "outputs": [],
   "source": [
    "benchs = [\n",
    " {'label': \"LPP 2000 25\", 'value': \"lpp200025\"},\n",
    " {'label': \"LPP 2000 40\", 'value': \"lpp200040\"},\n",
    " {'label': \"LPP 2000 60\", 'value': \"lpp200060\"},\n",
    " {'label': \"LPP 2005 25\", 'value': \"lpp200525\"},\n",
    " {'label': \"LPP 2005 40\", 'value': \"lpp200540\"},\n",
    " {'label': \"LPP 2005 60\", 'value': \"lpp200560\"},\n",
    " {'label': \"LPP 2015 25\", 'value': \"lpp201525\"},\n",
    " {'label': \"LPP 2015 40\", 'value': \"lpp201540\"},\n",
    " {'label': \"LPP 2015 60\", 'value': \"lpp201560\"}]"
   ]
  },
  {
   "cell_type": "code",
   "execution_count": 13,
   "metadata": {},
   "outputs": [],
   "source": [
    "resume_2000_60 = pd.DataFrame([[25, \"Bonds\", \"Swiss\"],\n",
    "             [10, \"Bonds\", \"Euro\"],\n",
    "             [5, \"Bonds\", \"World\"],\n",
    "             [40, \"Stocks\", \"World\"],\n",
    "             [20, \"Stocks\", \"Swiss\"],], columns=[\"Weight %\", \"Sector\", \"Indices\"])\n",
    "\n",
    "resume_2000_40 = pd.DataFrame([[45, \"Bonds\", \"Swiss\"],\n",
    "             [10, \"Bonds\", \"Euro\"],\n",
    "             [5, \"Bonds\", \"World\"],\n",
    "             [25, \"Stocks\", \"World\"],\n",
    "             [15, \"Stocks\", \"Swiss\"],], columns=[\"Weight %\", \"Sector\", \"Indices\"])\n",
    "\n",
    "resume_2000_25 = pd.DataFrame([[60, \"Bonds\", \"Swiss\"],\n",
    "             [10, \"Bonds\", \"Euro\"],\n",
    "             [5, \"Bonds\", \"World\"],\n",
    "             [15, \"Stocks\", \"World\"],\n",
    "             [10, \"Stocks\", \"Swiss\"]], columns=[\"Weight %\", \"Sector\", \"Indices\"])\n"
   ]
  },
  {
   "cell_type": "code",
   "execution_count": 14,
   "metadata": {},
   "outputs": [],
   "source": [
    "params = {\"font-size\":\"20px\",\n",
    "             \"margin-left\":\"5px\",\n",
    "              \"margin-top\":\"15px\",\n",
    "             \"background-color\":\"#161616\",\n",
    "             \"border-radius\": \"5px\",\n",
    "              \"height\": \"75px\"\n",
    "             }\n",
    "te = html.Div([html.Div([dcc.Markdown(\"\", id=\"te\")],style={\"font-size\":params[\"font-size\"],\n",
    "                                                                       \"margin-left\":params[\"margin-left\"],\n",
    "                                                                      \"font-weight\":\"bold\"}),\n",
    "                       html.Div([dcc.Markdown(\"Tracking Error\")], style={\"margin-left\":\"5px\"})],\n",
    "\n",
    "                      style={\n",
    "                            \"background-color\":params[\"background-color\"],\n",
    "                             \"height\": params[\"height\"],\n",
    "                          \"margin-right\":\"5px\",\n",
    "                          \"border-radius\": params[\"border-radius\"],\n",
    "                            })\n",
    "\n",
    "cost = html.Div([html.Div([dcc.Markdown(\"\", id=\"cost\")],style={\"font-size\":params[\"font-size\"],\n",
    "                                                                       \"margin-left\":params[\"margin-left\"],\n",
    "                                                                      \"font-weight\":\"bold\"}),\n",
    "                       html.Div([dcc.Markdown(\"Cost\")], style={\"margin-left\":\"5px\"})],\n",
    "\n",
    "                      style={\n",
    "                            \"background-color\":params[\"background-color\"],\n",
    "                             \"height\": params[\"height\"],\n",
    "                          \"margin-right\":\"5px\",\n",
    "                          \"border-radius\": params[\"border-radius\"],\n",
    "                            })\n",
    "\n",
    "\n",
    "ret_pf = html.Div([html.Div([dcc.Markdown(\"\", id=\"ret_pf\")],style={\"font-size\":params[\"font-size\"],\n",
    "                                                                       \"margin-left\":params[\"margin-left\"],\n",
    "                                                                      \"font-weight\":\"bold\"}),\n",
    "                       html.Div([dcc.Markdown(\"Ret Pf.\")], style={\"margin-left\":\"0px\"})],\n",
    "\n",
    "                      style={\n",
    "                            \"background-color\":params[\"background-color\"],\n",
    "                             \"height\": params[\"height\"],\n",
    "                          \"margin-right\":\"0px\",\n",
    "                          \"border-radius\": params[\"border-radius\"],\n",
    "                            })\n",
    "\n",
    "ret_idx = html.Div([html.Div([dcc.Markdown(\"\", id=\"ret_idx\")],style={\"font-size\":params[\"font-size\"],\n",
    "                                                                       \"margin-left\":params[\"margin-left\"],\n",
    "                                                                      \"font-weight\":\"bold\"}),\n",
    "                       html.Div([dcc.Markdown(\"Ret Bench.\")], style={\"margin-left\":\"0px\"})],\n",
    "\n",
    "                      style={\n",
    "                            \"background-color\":params[\"background-color\"],\n",
    "                             \"height\": params[\"height\"],\n",
    "                          \"margin-right\":\"0px\",\n",
    "                          \"border-radius\": params[\"border-radius\"],\n",
    "                            })\n",
    "\n",
    "exp = html.Div([html.Div([dcc.Markdown(\"\", id=\"exp\")],style={\"font-size\":params[\"font-size\"],\n",
    "                                                                       \"margin-left\":params[\"margin-left\"],\n",
    "                                                                      \"font-weight\":\"bold\"}),\n",
    "                       html.Div([dcc.Markdown(\"Exp monetaire\")], style={\"margin-left\":\"0px\"})],\n",
    "\n",
    "                      style={\n",
    "                            \"background-color\":params[\"background-color\"],\n",
    "                             \"height\": params[\"height\"],\n",
    "                          \"margin-right\":\"0px\",\n",
    "                          \"border-radius\": params[\"border-radius\"]})"
   ]
  },
  {
   "cell_type": "code",
   "execution_count": 15,
   "metadata": {
    "scrolled": true
   },
   "outputs": [
    {
     "name": "stdout",
     "output_type": "stream",
     "text": [
      "Dash is running on http://127.0.0.1:8050/\n",
      "\n",
      " * Serving Flask app \"__main__\" (lazy loading)\n",
      " * Environment: production\n",
      "   WARNING: This is a development server. Do not use it in a production deployment.\n",
      "   Use a production WSGI server instead.\n",
      " * Debug mode: off\n"
     ]
    },
    {
     "name": "stderr",
     "output_type": "stream",
     "text": [
      " * Running on http://127.0.0.1:8050/ (Press CTRL+C to quit)\n",
      "127.0.0.1 - - [23/Nov/2021 09:51:16] \"\u001b[37mGET / HTTP/1.1\u001b[0m\" 200 -\n",
      "127.0.0.1 - - [23/Nov/2021 09:51:16] \"\u001b[37mGET /_dash-component-suites/dash_renderer/polyfill@7.v1_9_1m1617985068.8.7.min.js HTTP/1.1\u001b[0m\" 200 -\n",
      "127.0.0.1 - - [23/Nov/2021 09:51:16] \"\u001b[37mGET /_dash-component-suites/dash_renderer/react-dom@16.v1_9_1m1617985068.14.0.min.js HTTP/1.1\u001b[0m\" 200 -\n",
      "127.0.0.1 - - [23/Nov/2021 09:51:16] \"\u001b[37mGET /_dash-component-suites/dash_core_components/dash_core_components-shared.v1_16_0m1617985098.js HTTP/1.1\u001b[0m\" 200 -\n",
      "127.0.0.1 - - [23/Nov/2021 09:51:16] \"\u001b[37mGET /_dash-component-suites/dash_html_components/dash_html_components.v1_1_3m1617985573.min.js HTTP/1.1\u001b[0m\" 200 -\n",
      "127.0.0.1 - - [23/Nov/2021 09:51:16] \"\u001b[37mGET /_dash-component-suites/dash_core_components/dash_core_components.v1_16_0m1617985098.min.js HTTP/1.1\u001b[0m\" 200 -\n",
      "127.0.0.1 - - [23/Nov/2021 09:51:16] \"\u001b[37mGET /_dash-component-suites/dash_renderer/dash_renderer.v1_9_1m1617985068.min.js HTTP/1.1\u001b[0m\" 200 -\n",
      "127.0.0.1 - - [23/Nov/2021 09:51:17] \"\u001b[37mGET /_dash-layout HTTP/1.1\u001b[0m\" 200 -\n",
      "127.0.0.1 - - [23/Nov/2021 09:51:17] \"\u001b[37mGET /_dash-dependencies HTTP/1.1\u001b[0m\" 200 -\n",
      "127.0.0.1 - - [23/Nov/2021 09:51:18] \"\u001b[37mGET /_dash-component-suites/dash_core_components/async-markdown.v1_16_0m1617903285.js HTTP/1.1\u001b[0m\" 200 -\n",
      "127.0.0.1 - - [23/Nov/2021 09:51:18] \"\u001b[37mGET /_dash-component-suites/dash_core_components/async-dropdown.v1_16_0m1617903285.js HTTP/1.1\u001b[0m\" 200 -\n",
      "127.0.0.1 - - [23/Nov/2021 09:51:18] \"\u001b[37mGET /_dash-component-suites/dash_core_components/async-graph.v1_16_0m1617903285.js HTTP/1.1\u001b[0m\" 200 -\n",
      "127.0.0.1 - - [23/Nov/2021 09:51:18] \"\u001b[37mGET /_dash-component-suites/dash_core_components/async-highlight.v1_16_0m1617903285.js HTTP/1.1\u001b[0m\" 200 -\n"
     ]
    },
    {
     "name": "stdout",
     "output_type": "stream",
     "text": [
      "None NR\n"
     ]
    },
    {
     "name": "stderr",
     "output_type": "stream",
     "text": [
      "127.0.0.1 - - [23/Nov/2021 09:51:18] \"\u001b[37mGET /_dash-component-suites/dash_core_components/async-plotlyjs.v1_16_0m1617903285.js HTTP/1.1\u001b[0m\" 200 -\n",
      "127.0.0.1 - - [23/Nov/2021 09:51:20] \"\u001b[37mPOST /_dash-update-component HTTP/1.1\u001b[0m\" 200 -\n"
     ]
    }
   ],
   "source": [
    "\n",
    "# In[10]:\n",
    "\n",
    "\n",
    "external_stylesheets = ['https://codepen.io/chriddyp/pen/bWLwgP.css']\n",
    "app = dash.Dash(__name__, external_stylesheets=external_stylesheets)\n",
    "\n",
    "colors = {\"background-color\":\"#161616\",\n",
    "         \"color\":\"#ffffff\"}\n",
    "\n",
    "\n",
    "\n",
    "########## HEADER\n",
    "header = html.Div([dcc.Markdown(\"**OPTIMAL REBALANCING METHODS**\", style={\"font-size\":\"35px\"})],\n",
    "\n",
    "                  style={\"padding\": \"50px\",\n",
    "                        \"background\":\"#161616\",\n",
    "                        \"margin\":\"-15px 0px -0px -10px\",\n",
    "                        \"textAlign\":\"center\",\n",
    "                        \"color\":\"#FFFFFF\"})\n",
    "\n",
    "########## BANDEAU 1\n",
    "lpp = html.Div([dcc.Markdown(\"**BENCHMARK**\", style={\"color\":colors[\"color\"]}),\n",
    "                dcc.Dropdown(id=\"actifs\",\n",
    "                     options=benchs,\n",
    "                    value=\"lpp200025\",\n",
    "                     multi=False)], style={\"margin\":\"0px 0px 0px 0px\", \"width\":\"50%\",\n",
    "                                           \"padding\":\"30px 0px 0px 0px\",'marginLeft' : '50px'})\n",
    "\n",
    "input_value = html.Div([dcc.Markdown(\"**VALUE FOR REBALANCING (see the documentation)**\", style={\"color\":colors[\"color\"],\"margin\":\"0px 0px 0px 50px\"}),\n",
    "                        dcc.Input(id=\"value\", type=\"text\", placeholder=\"Value for rebalancing\", style={\"margin\":\"0px 0px 0px 50px\"})])\n",
    "\n",
    "inputs = html.Div([dcc.Markdown(\"**VALUE FOR REBALANCING (see the documentation)**\", style={\"color\":colors[\"color\"]}),\n",
    "                  lpp, input_value], style={\"columnCount\":2,\"margin\":\"0px 0px 0px 50px\"})\n",
    "\n",
    "methods = html.Div([dcc.Markdown(\"**METHOD OF REBALANCING**\", style={}),\n",
    "                    dcc.RadioItems(id=\"Optimizor\",options=[{'label': \"No rebalancing\", 'value': \"NR\"},\n",
    "                                            {'label': \"Fixed interval rebalancing\", 'value': \"FIR\"},\n",
    "                                            {'label': \"Absolute deviation\", 'value': \"AD\"},\n",
    "                                            {'label': \"Relative deviation\", 'value': \"RD\"},\n",
    "                                            {'label': \"Tracking Error deviation\", 'value': \"TE\"},\n",
    "                                            {'label': \"Standard deviation deviation\", 'value': \"SDD\"},\n",
    "                                            {'label': \"Momentum strategy (TAA)\", 'value': \"MOM\"}],value=\"NR\")],\n",
    "                   style={\"color\":\"#ffffff\",\"margin\":\"50px 0px 50px 50px\"})\n",
    "\n",
    "spaces = html.Div([dcc.Markdown(\"\", style={\"height\":\"100px\"})])\n",
    "\n",
    "\n",
    "review = html.Div([te, cost, ret_pf, ret_idx,exp], style={\"columnCount\":5, \"background-color\":\"#161616\",\n",
    "                                                         \"margin\":\"0px 0px -0px 0px\", \"color\":\"white\",\n",
    "                                                         \"text-align\": \"center\"})\n",
    "\n",
    "\n",
    "bandeau_1_gauche = html.Div([lpp, methods, input_value, spaces], style={\"margin\":\"0px 0px 0px 0px\",\n",
    "                                                                        \"background-color\":colors[\"background-color\"],\n",
    "                                                                       \"padding\":\"0px 0px 0px 0px\"})\n",
    "bandeau_1_droite = html.Div([review,dcc.Graph(id=\"cumret\", style={\"margin\":\"0px 0px 0px 0px\"})])\n",
    "\n",
    "bandeau_1 = html.Div([bandeau_1_gauche, bandeau_1_droite], style={\"columnCount\":2,\"height\":\"700px\",\"margin\":\"20px 0px -0px -0px\"})\n",
    "\n",
    "########## BANDEAU 2\n",
    "\n",
    "bandeau_2 = html.Div([dcc.Graph(id=\"weight\"),\n",
    "                     dcc.Graph(id=\"drawdown\")], style={\"columnCount\":2,\n",
    "                                                      \"margin\":\"-135px 0px 0px 0px\"})\n",
    "\n",
    "########## BANDEAU 3\n",
    "bandeau_3 = html.Div([dcc.Graph(id=\"returns\")], style={\"margin\":\"30px 0px 0px 0px\"})\n",
    "\n",
    "########## Dashboard\n",
    "dashboard = html.Div([header,\n",
    "                     bandeau_1,\n",
    "                     bandeau_2,\n",
    "                     bandeau_3], style={\"background\":\"#303030\",\n",
    "                                 \"margin\":\"0px -15px -0px -15px\"\n",
    "                                       })\n",
    "\n",
    "app.layout = dashboard\n",
    "\n",
    "####### CALLBACKS\n",
    "\n",
    "@app.callback(Output(\"cumret\", \"figure\"),\n",
    "              Output(\"weight\", \"figure\"),\n",
    "              Output(\"drawdown\", \"figure\"),\n",
    "              Output(\"returns\", \"figure\"),\n",
    "              Output(\"cost\", \"children\"),\n",
    "              Output(\"te\", \"children\"),\n",
    "              Output(\"ret_pf\", \"children\"),\n",
    "              Output(\"ret_idx\", \"children\"),\n",
    "              Output(\"exp\", \"children\"),\n",
    "              Input(\"value\", \"value\"),\n",
    "              Input(\"Optimizor\", \"value\"),\n",
    "             Input(\"actifs\",\"value\"))\n",
    "\n",
    "def affichage(value, method, lpp_value):\n",
    "    print(value, method)\n",
    "    if lpp_value == \"lpp200025\":\n",
    "        database, weight, bench, columns = lpp2000, weight_LPP2000_25, \"LPP 25\", [\"Swiss Bond\", \"Euro Bonds\",\"Mondial Bonds\", \"Swiss Stocks\", \"Mondial Stocks\"]\n",
    "        exp=\"30%\"\n",
    "        resume = resume_2000_25\n",
    "    elif lpp_value == \"lpp200040\":\n",
    "        database, weight, bench, columns = lpp2000, weight_LPP2000_40, \"LPP 40\", [\"Swiss Bond\", \"Euro Bonds\",\"Mondial Bonds\", \"Swiss Stocks\", \"Mondial Stocks\"]\n",
    "        exp=\"40%\"\n",
    "        resume = resume_2000_40\n",
    "    else:\n",
    "        database, weight, bench, columns = lpp2000, weight_LPP2000_60, \"LPP 60\", [\"Swiss Bond\", \"Euro Bonds\",\"Mondial Bonds\", \"Swiss Stocks\", \"Mondial Stocks\"]\n",
    "        exp=\"55%\"\n",
    "        resume = resume_2000_60\n",
    "    if value == \"\":\n",
    "        value = 0\n",
    "    if value==None:\n",
    "        value = 0\n",
    "\n",
    "    reb = Rebalancing(database, bench, columns, weight, cost=0.0013)\n",
    "    if method==\"NR\":\n",
    "        reb.no_rebalancing()\n",
    "\n",
    "    elif method==\"FIR\":\n",
    "        if float(value)<1:\n",
    "            value = 1\n",
    "            reb.fixed_interval_rebalancing(int(value))\n",
    "        else:\n",
    "            reb.fixed_interval_rebalancing(int(value))\n",
    "\n",
    "    elif method==\"AD\":\n",
    "        reb.absolute_deviation(float(value))\n",
    "\n",
    "    elif method==\"RD\":\n",
    "        reb.relative_deviation(float(value))\n",
    "\n",
    "    elif method==\"TE\":\n",
    "        reb.tracking_error_deviation(float(value))\n",
    "\n",
    "    elif method==\"SDD\":\n",
    "        reb.standard_deviation_deviation(float(value))\n",
    "\n",
    "    else:\n",
    "        reb.momentum(float(value))\n",
    "\n",
    "\n",
    "    reb.visualisation()\n",
    "    vis = Visualization(reb.portfolio, reb.database[reb.benchmark], reb.weight)\n",
    "    cum = vis.fig_cumulative_returns()\n",
    "    weight = vis.fig_weight_portfolio()\n",
    "    ret = vis.yearly_return_comparaison()\n",
    "    tot_cost = np.round(reb.total_cost,3)\n",
    "    cost = \"{}%\".format(tot_cost)\n",
    "    #cost = f\"{'%.3f' % reb.total_cost}%\"\n",
    "    tot_te = np.round(reb.te,3)\n",
    "    te = \"{}%\".format(tot_te)\n",
    "    #te = f\"{'%.3f' % reb.te}%\"\n",
    "\n",
    "\n",
    "    sunburst_2015_40 = px.sunburst(resume, path=['Sector', 'Indices'], values=\"Weight %\")\n",
    "    sunburst_2015_40.update_layout(template=\"plotly_dark\", font={\"color\":\"white\"},title=\"Benchmark\", title_x=0.5,\n",
    "                paper_bgcolor=\"#131313\",\n",
    "                plot_bgcolor=\"#131313\",\n",
    "                      legend=dict(\n",
    "                      x=0.03,\n",
    "                      y=0.97,\n",
    "                      traceorder='normal',\n",
    "                      font=dict(size=12)))\n",
    "\n",
    "    #pf_ret = f\"{'%.3f' % reb.annual_pf}%\"\n",
    "    tot_ret = np.round(reb.annual_pf,3)\n",
    "    pf_ret = \"{}%\".format(tot_ret)\n",
    "    #pf_idx = f\"{'%.3f' % reb.annual_idx}%\"\n",
    "    tot_idx = np.round(reb.annual_idx,3)\n",
    "    pf_idx = \"{}%\".format(tot_idx)\n",
    "    return cum, weight, sunburst_2015_40, ret, cost,te,pf_ret, pf_idx,exp\n",
    "\n",
    "if __name__ == '__main__':\n",
    "    app.run_server(debug=False)"
   ]
  },
  {
   "cell_type": "code",
   "execution_count": null,
   "metadata": {},
   "outputs": [],
   "source": []
  }
 ],
 "metadata": {
  "kernelspec": {
   "display_name": "Python 3",
   "language": "python",
   "name": "python3"
  },
  "language_info": {
   "codemirror_mode": {
    "name": "ipython",
    "version": 3
   },
   "file_extension": ".py",
   "mimetype": "text/x-python",
   "name": "python",
   "nbconvert_exporter": "python",
   "pygments_lexer": "ipython3",
   "version": "3.7.6"
  }
 },
 "nbformat": 4,
 "nbformat_minor": 5
}
